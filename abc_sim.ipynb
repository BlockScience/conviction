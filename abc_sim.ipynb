{
 "cells": [
  {
   "cell_type": "code",
   "execution_count": 1,
   "metadata": {},
   "outputs": [],
   "source": [
    "#import networkx as nx\n",
    "import matplotlib.pyplot as plt\n",
    "import numpy as np\n",
    "import scipy.stats as sts\n",
    "import seaborn as sns\n",
    "\n",
    "%matplotlib inline\n",
    "\n",
    "#import conviction files\n",
    "#from conviction_helpers import *\n",
    "#from conviction_system_logic3 import *\n",
    "from bonding_curve_eq import *"
   ]
  },
  {
   "cell_type": "markdown",
   "metadata": {},
   "source": [
    "System initialization"
   ]
  },
  {
   "cell_type": "code",
   "execution_count": 2,
   "metadata": {},
   "outputs": [],
   "source": [
    "hatch_raise = 100000 # fiat units\n",
    "hatch_price = .1 #fiat per tokens\n",
    "theta = .35 #share of funds going to funding pool at launch\n",
    "\n",
    "R0 = hatch_raise*(1-theta)\n",
    "F0 = hatch_raise*theta\n",
    "S0 = hatch_raise/hatch_price\n",
    "\n",
    "kappa = 2\n",
    "V0 = invariant(R0,S0,kappa)\n",
    "P0 = spot_price(R0, V0, kappa)"
   ]
  },
  {
   "cell_type": "markdown",
   "metadata": {},
   "source": [
    "agent initialization"
   ]
  },
  {
   "cell_type": "code",
   "execution_count": 3,
   "metadata": {},
   "outputs": [],
   "source": [
    "#number of agents\n",
    "n= 100\n",
    "\n",
    "#gain factors\n",
    "g = sts.expon.rvs(loc=.1, scale=1, size=n)\n",
    "phat0 = g*F0/S0\n",
    "\n",
    "#holdings fiat\n",
    "h = sts.expon.rvs( loc=10,scale=10, size=n)\n",
    "\n",
    "#holdings tokens\n",
    "s_dist = sts.expon.rvs(loc=10, scale=10, size=n)\n",
    "s0 = s_dist/sum(s_dist)*S0\n",
    "\n",
    "#lambda for revenue process\n",
    "lam = 20\n",
    "\n",
    "#phi for exiting funds\n",
    "phi = .02"
   ]
  },
  {
   "cell_type": "code",
   "execution_count": 4,
   "metadata": {},
   "outputs": [],
   "source": [
    "params= {\n",
    "    'kappa': [kappa],\n",
    "    'lambda': [lam],\n",
    "    'gains': [g],\n",
    "    'population':[n],\n",
    "    'phi': [phi],\n",
    "    'invariant': [V0]}"
   ]
  },
  {
   "cell_type": "code",
   "execution_count": 5,
   "metadata": {},
   "outputs": [],
   "source": [
    "initial_conditions = {'holdings': h,\n",
    "                      'tokens': s0,\n",
    "                      'supply': S0,\n",
    "                      'prices': phat0,\n",
    "                      'funds':F0,\n",
    "                      'reserve': R0,\n",
    "                      'spot_price': P0,\n",
    "                      'action': {}}"
   ]
  },
  {
   "cell_type": "code",
   "execution_count": 6,
   "metadata": {},
   "outputs": [
    {
     "data": {
      "text/plain": [
       "{'action': {},\n",
       " 'funds': 35000.0,\n",
       " 'holdings': array([14.88127433, 18.87466608, 19.57784342, 14.63793196, 21.44444536,\n",
       "        10.317408  , 19.62750331, 12.01878857, 14.2677462 , 16.97842563,\n",
       "        17.72176759, 14.36539909, 14.6211707 , 15.81277377, 43.90061536,\n",
       "        32.13775627, 34.48529219, 10.21543366, 10.07163269, 19.75850271,\n",
       "        12.78694008, 13.45157174, 15.95477221, 23.29108154, 37.35631614,\n",
       "        39.58434326, 16.12025781, 12.39256593, 30.15218853, 19.4749183 ,\n",
       "        13.22210379, 23.05457693, 18.71490291, 15.90044881, 26.39627265,\n",
       "        12.73248402, 22.60235735, 14.70512244, 12.26744585, 12.10522647,\n",
       "        13.02446565, 13.70205896, 12.64071173, 17.15759214, 10.38946039,\n",
       "        15.67547335, 17.51918024, 40.69697866, 13.43426017, 22.45919271,\n",
       "        33.11092485, 10.3702571 , 12.67652359, 22.35003255, 41.30033197,\n",
       "        19.89817066, 21.58959114, 24.56040609, 11.79517901, 14.46493707,\n",
       "        10.98525867, 29.4206448 , 11.44259455, 34.82126874, 17.11043099,\n",
       "        14.42873539, 12.03525765, 15.62657785, 11.49295128, 11.17655876,\n",
       "        14.8351585 , 16.80015068, 21.43715064, 19.88951087, 27.3182167 ,\n",
       "        27.32968491, 15.98285466, 20.48773575, 10.36637018, 15.99174039,\n",
       "        22.70250809, 11.59151592, 19.91487937, 41.6028378 , 22.34268929,\n",
       "        11.19780958, 12.51695259, 18.74055083, 23.47436995, 18.89681038,\n",
       "        34.23362347, 18.99016726, 24.95746923, 19.96234447, 19.82704739,\n",
       "        15.0748816 , 15.75287258, 18.27690911, 17.47564471, 13.72176299]),\n",
       " 'prices': array([0.03294614, 0.00940077, 0.01333852, 0.01809726, 0.01099961,\n",
       "        0.01619589, 0.04005964, 0.02872198, 0.06206674, 0.05914043,\n",
       "        0.0555128 , 0.33451821, 0.04662551, 0.01209451, 0.03678592,\n",
       "        0.03062592, 0.00902995, 0.04908896, 0.03527864, 0.00708443,\n",
       "        0.00781666, 0.01942934, 0.05060054, 0.02886485, 0.00613693,\n",
       "        0.01036006, 0.03659552, 0.02118436, 0.00725899, 0.01188288,\n",
       "        0.00642702, 0.05644966, 0.08644936, 0.04552085, 0.07097738,\n",
       "        0.01992168, 0.01907129, 0.01044349, 0.01770096, 0.00510643,\n",
       "        0.01080443, 0.02528366, 0.0784599 , 0.01263797, 0.05077802,\n",
       "        0.01194453, 0.02399326, 0.09576521, 0.01171497, 0.04145192,\n",
       "        0.03314502, 0.01770759, 0.10754922, 0.02147692, 0.02764718,\n",
       "        0.01051694, 0.04740914, 0.03670041, 0.04153406, 0.0486834 ,\n",
       "        0.01255856, 0.01528643, 0.02165657, 0.03893526, 0.03341573,\n",
       "        0.03414267, 0.00425014, 0.02526114, 0.03479073, 0.064243  ,\n",
       "        0.11291872, 0.05897103, 0.0805738 , 0.12528287, 0.02783384,\n",
       "        0.02739186, 0.01020661, 0.00948711, 0.03665115, 0.04075837,\n",
       "        0.03300171, 0.01090048, 0.03258498, 0.01960781, 0.03104233,\n",
       "        0.00439894, 0.01476272, 0.1509597 , 0.01648629, 0.00709618,\n",
       "        0.00394137, 0.10226403, 0.00770832, 0.01139406, 0.0429253 ,\n",
       "        0.02088549, 0.01244634, 0.07329495, 0.07380645, 0.01203784]),\n",
       " 'reserve': 65000.0,\n",
       " 'spot_price': 0.13,\n",
       " 'supply': 1000000.0,\n",
       " 'tokens': array([13096.35486701, 39192.75780827,  5143.39901326,  8676.39267665,\n",
       "         6085.77275984, 10677.14237645,  9498.16345001, 37365.37568705,\n",
       "         5735.9586308 , 12450.56787716,  6970.05178029,  6806.4269829 ,\n",
       "        11196.88037079, 21589.17668658, 13929.74572977,  4922.46715105,\n",
       "        18368.06474348,  6813.8709843 ,  5262.53462563,  5244.19111365,\n",
       "         9224.38623021, 12331.47865543,  9779.30947527, 10321.13438509,\n",
       "         9888.3442418 ,  5565.45119667,  7394.15230012,  6153.29611894,\n",
       "         6374.36775059,  8384.59373554,  5901.26820104,  5280.9741122 ,\n",
       "         7961.12189863,  7249.68225614,  7769.96491627,  7703.90997781,\n",
       "         6886.57571724, 17854.60801791, 17421.1576242 ,  4858.88984413,\n",
       "        19573.51463391, 21640.61374031,  5222.39634989,  7713.06481448,\n",
       "        20200.10034359, 19222.93274242, 16170.93888703,  5303.68168166,\n",
       "         6888.20359956, 13940.73353357,  6206.76381704,  4804.367405  ,\n",
       "        11338.09485446,  7047.46283623,  5029.74185701, 11610.47820826,\n",
       "         7270.91362391,  6459.23134685,  5216.36860302,  5690.88336926,\n",
       "         9365.16213184,  5196.72238947,  7015.54186227, 17074.80223226,\n",
       "        14047.04939724, 14750.38277542,  5459.524232  ,  5599.79909671,\n",
       "         5227.67311217, 10499.18563596,  7287.83810777,  5650.46016706,\n",
       "         8041.99341221,  8725.73606823,  7811.32629003,  9676.30570825,\n",
       "        14088.69849558,  5763.02324408,  5605.29482125,  8233.52624461,\n",
       "         4814.53588356,  8027.1648952 , 11060.88292885,  5117.79179897,\n",
       "        14123.17188357,  6837.18388707,  5779.50624142,  6824.53960058,\n",
       "         8143.41885925, 18779.72343612, 17821.25423193,  9288.83431639,\n",
       "         8794.42841422, 11530.65370998,  7403.60704324, 16754.89539846,\n",
       "        11115.486416  ,  7926.30527074,  5846.89760111,  9009.22454127])}"
      ]
     },
     "execution_count": 6,
     "metadata": {},
     "output_type": "execute_result"
    }
   ],
   "source": [
    "initial_conditions"
   ]
  },
  {
   "cell_type": "code",
   "execution_count": 7,
   "metadata": {},
   "outputs": [],
   "source": [
    "#change in F (revenue and spending accounted for)\n",
    "def revenue_process(params, step, sL, s):\n",
    "    lam = params['lambda']\n",
    "    rv = sts.expon.rvs(scale=1/lam)\n",
    "    delF= 1-1/lam+rv\n",
    "    return({'delF':delF})"
   ]
  },
  {
   "cell_type": "code",
   "execution_count": 8,
   "metadata": {},
   "outputs": [],
   "source": [
    "def update_funds(params, step, sL, s, _input):\n",
    "    \n",
    "    funds = s['funds']*_input['delF']\n",
    "    \n",
    "    key = 'funds'\n",
    "    value = funds\n",
    "    \n",
    "    return (key, value)"
   ]
  },
  {
   "cell_type": "code",
   "execution_count": 9,
   "metadata": {},
   "outputs": [],
   "source": [
    "def update_prices(params, step, sL, s, _input):\n",
    "    \n",
    "    g = params['gains']\n",
    "    phat = g*s['funds']/s['supply']\n",
    "    \n",
    "    key = 'prices'\n",
    "    value = phat\n",
    "    \n",
    "    return (key, value)"
   ]
  },
  {
   "cell_type": "code",
   "execution_count": 10,
   "metadata": {},
   "outputs": [],
   "source": [
    "#change in F (revenue and spending accounted for)\n",
    "def choose_agent(params, step, sL, s):\n",
    "    n = params['population']\n",
    "    rv = np.random.randint(0,n)\n",
    "    return({'agent':rv})"
   ]
  },
  {
   "cell_type": "code",
   "execution_count": 11,
   "metadata": {},
   "outputs": [],
   "source": [
    "def agent_action(params, step, sL, s, _input):\n",
    "    \n",
    "    a = _input['agent']\n",
    "    h_a = s['holdings'][a]\n",
    "    phat_a = s['prices'][a]\n",
    "    s_a =  s['tokens'][a]\n",
    "    p = s['spot_price']\n",
    "    \n",
    "    if p>phat_a:\n",
    "        mech = 'burn'\n",
    "        #solve for burn s.t. p=phat\n",
    "        #if ha is enough\n",
    "        amt = 1000 #fill in logic here\n",
    "        if amt> s_a:\n",
    "            amt = s_a\n",
    "        \n",
    "    else: # p<phat_a:\n",
    "        mech = 'bond'\n",
    "        #solve for buy s.t. p=phat\n",
    "        #if sa is enough\n",
    "        amt = 1000 #fill in logic here\n",
    "        if amt> h_a:\n",
    "            amt = h_a\n",
    "        \n",
    "    key = 'action'\n",
    "    value = {'agent':a, 'mech':mech, 'amt':amt}\n",
    "    \n",
    "    return (key, value)"
   ]
  },
  {
   "cell_type": "code",
   "execution_count": 12,
   "metadata": {},
   "outputs": [],
   "source": [
    "def resolve_action(params, step, sL, s):\n",
    "    action = s['action']\n",
    "    a = action['agent']\n",
    "    amt = action['amt']\n",
    "    h_a = s['holdings'][a]\n",
    "    s_a =  s['tokens'][a]\n",
    "    R = s['reserve']\n",
    "    S = s['supply']\n",
    "    F = s['funds']\n",
    "    V0 = params['invariant']\n",
    "    \n",
    "    if action['mech'] == 'bond':\n",
    "        h_a = h_a-amt\n",
    "        dS, pbar = mint(amt, R,S, V0, params['kappa'])\n",
    "        R = R+amt\n",
    "        S = S+dS\n",
    "        s_a = s_a+dS\n",
    "        P = spot_price(R, V0, kappa)\n",
    "    \n",
    "    elif action['mech'] == 'burn':\n",
    "        s_a = s_a-amt\n",
    "        dR, pbar = withdraw(amt, R,S, V0, params['kappa'])\n",
    "        R = R-dR\n",
    "        F = F + params['phi']*dR\n",
    "        S = S-amt\n",
    "        h_a = h_a + (1-params['phi'])*dR\n",
    "        P = spot_price(R, V0, kappa)\n",
    "    \n",
    "    return({'F':F, 'S':S, 'R':R,'P':P, 'a':a,'s_a':s_a, 'h_a':h_a})"
   ]
  },
  {
   "cell_type": "code",
   "execution_count": 13,
   "metadata": {},
   "outputs": [],
   "source": [
    "def update_F(params, step, sL, s, _input):\n",
    "    \n",
    "    F = _input['F']\n",
    "    \n",
    "    key = 'funds'\n",
    "    value = F\n",
    "    \n",
    "    return (key, value)\n",
    "\n",
    "def update_S(params, step, sL, s, _input):\n",
    "    \n",
    "    S = _input['S']\n",
    "    \n",
    "    key = 'supply'\n",
    "    value = S\n",
    "    \n",
    "    return (key, value)\n",
    "\n",
    "def update_R(params, step, sL, s, _input):\n",
    "    \n",
    "    R = _input['R']\n",
    "    \n",
    "    key = 'reserve'\n",
    "    value = R\n",
    "    \n",
    "    return (key, value)\n",
    "\n",
    "def update_P(params, step, sL, s, _input):\n",
    "    \n",
    "    P = _input['P']\n",
    "    \n",
    "    key = 'spot_price'\n",
    "    value = P\n",
    "    \n",
    "    return (key, value)\n",
    "\n",
    "def update_holdings(params, step, sL, s, _input):\n",
    "    \n",
    "    h_a = _input['h_a']\n",
    "    a = _input['a']\n",
    "    \n",
    "    h = s['holdings']\n",
    "    h[a] = h_a\n",
    "    \n",
    "    key = 'holdings'\n",
    "    value = h\n",
    "    \n",
    "    return (key, value)\n",
    "\n",
    "def update_tokens(params, step, sL, s, _input):\n",
    "    \n",
    "    s_a = _input['s_a']\n",
    "    a = _input['a']\n",
    "    \n",
    "    tokens = s['holdings']\n",
    "    tokens[a] = s_a\n",
    "    \n",
    "    key = 'holdings'\n",
    "    value = tokens\n",
    "    \n",
    "    return (key, value)"
   ]
  },
  {
   "cell_type": "code",
   "execution_count": 14,
   "metadata": {},
   "outputs": [],
   "source": [
    "# # # # # # # # # # # # # # # # # # # # # # # # # # # # # # # # # # # # # # # # # # # # # # # # \n",
    "# The Partial State Update Blocks\n",
    "partial_state_update_blocks = [\n",
    "    { \n",
    "        'policies': { \n",
    "            #new proposals or new participants\n",
    "            'random': revenue_process\n",
    "        },\n",
    "        'variables': {\n",
    "            'funds': update_funds,\n",
    "            'prices': update_prices\n",
    "        }\n",
    "    },\n",
    "    {\n",
    "      'policies': {\n",
    "          'random': choose_agent\n",
    "        },\n",
    "        'variables': { \n",
    "            'action': agent_action, \n",
    "        }\n",
    "    },\n",
    "    {\n",
    "      'policies': {\n",
    "          'act': resolve_action,\n",
    "        },\n",
    "        'variables': {\n",
    "            'funds': update_F, #\n",
    "            'supply': update_S, \n",
    "            'reserve': update_R,\n",
    "            'spot_price': update_P,\n",
    "            'holdings': update_holdings,\n",
    "            'tokens': update_tokens\n",
    "        }\n",
    "    }\n",
    "]"
   ]
  },
  {
   "cell_type": "code",
   "execution_count": 15,
   "metadata": {},
   "outputs": [],
   "source": [
    "time_periods_per_run = 1000\n",
    "monte_carlo_runs = 1\n",
    "\n",
    "from cadCAD.configuration.utils import config_sim\n",
    "simulation_parameters = config_sim({\n",
    "    'T': range(time_periods_per_run),\n",
    "    'N': monte_carlo_runs,\n",
    "    'M': params\n",
    "})"
   ]
  },
  {
   "cell_type": "code",
   "execution_count": 16,
   "metadata": {},
   "outputs": [
    {
     "name": "stdout",
     "output_type": "stream",
     "text": [
      "[{'N': 1, 'T': range(0, 1000), 'M': {'kappa': 2, 'lambda': 20, 'gains': array([0.94131832, 0.26859354, 0.38110061, 0.51706446, 0.31427464,\n",
      "       0.46273963, 1.14456103, 0.82062798, 1.7733353 , 1.68972652,\n",
      "       1.58607992, 9.5576631 , 1.33215736, 0.34555754, 1.05102631,\n",
      "       0.87502626, 0.25799865, 1.40254163, 1.00796124, 0.20241237,\n",
      "       0.22333319, 0.55512391, 1.44572973, 0.82470992, 0.1753408 ,\n",
      "       0.2960016 , 1.04558639, 0.60526736, 0.20739984, 0.33951077,\n",
      "       0.18362902, 1.61284755, 2.46998174, 1.30059563, 2.02792526,\n",
      "       0.56919073, 0.544894  , 0.29838542, 0.50574184, 0.14589808,\n",
      "       0.30869799, 0.72239021, 2.24171138, 0.36108484, 1.45080069,\n",
      "       0.34127224, 0.68552167, 2.73614881, 0.33471352, 1.18434063,\n",
      "       0.9470007 , 0.50593117, 3.07283481, 0.61362619, 0.78991929,\n",
      "       0.30048405, 1.35454682, 1.04858323, 1.18668756, 1.39095441,\n",
      "       0.35881591, 0.43675517, 0.61875908, 1.11243611, 0.95473521,\n",
      "       0.97550478, 0.12143258, 0.72174688, 0.99402087, 1.83551415,\n",
      "       3.22624923, 1.68488665, 2.30210848, 3.57951071, 0.79525259,\n",
      "       0.78262467, 0.29161745, 0.27106025, 1.04717585, 1.16452491,\n",
      "       0.94290594, 0.31144239, 0.93099942, 0.56022315, 0.88692378,\n",
      "       0.12568412, 0.42179193, 4.31313433, 0.47103677, 0.20274799,\n",
      "       0.11261044, 2.9218295 , 0.22023773, 0.3255446 , 1.22643706,\n",
      "       0.59672838, 0.35560964, 2.09414155, 2.10875582, 0.34393833]), 'population': 100, 'phi': 0.02, 'invariant': 15384615.384615384}}, {'N': 1, 'T': range(0, 1000), 'M': {'kappa': 2, 'lambda': 20, 'gains': array([0.94131832, 0.26859354, 0.38110061, 0.51706446, 0.31427464,\n",
      "       0.46273963, 1.14456103, 0.82062798, 1.7733353 , 1.68972652,\n",
      "       1.58607992, 9.5576631 , 1.33215736, 0.34555754, 1.05102631,\n",
      "       0.87502626, 0.25799865, 1.40254163, 1.00796124, 0.20241237,\n",
      "       0.22333319, 0.55512391, 1.44572973, 0.82470992, 0.1753408 ,\n",
      "       0.2960016 , 1.04558639, 0.60526736, 0.20739984, 0.33951077,\n",
      "       0.18362902, 1.61284755, 2.46998174, 1.30059563, 2.02792526,\n",
      "       0.56919073, 0.544894  , 0.29838542, 0.50574184, 0.14589808,\n",
      "       0.30869799, 0.72239021, 2.24171138, 0.36108484, 1.45080069,\n",
      "       0.34127224, 0.68552167, 2.73614881, 0.33471352, 1.18434063,\n",
      "       0.9470007 , 0.50593117, 3.07283481, 0.61362619, 0.78991929,\n",
      "       0.30048405, 1.35454682, 1.04858323, 1.18668756, 1.39095441,\n",
      "       0.35881591, 0.43675517, 0.61875908, 1.11243611, 0.95473521,\n",
      "       0.97550478, 0.12143258, 0.72174688, 0.99402087, 1.83551415,\n",
      "       3.22624923, 1.68488665, 2.30210848, 3.57951071, 0.79525259,\n",
      "       0.78262467, 0.29161745, 0.27106025, 1.04717585, 1.16452491,\n",
      "       0.94290594, 0.31144239, 0.93099942, 0.56022315, 0.88692378,\n",
      "       0.12568412, 0.42179193, 4.31313433, 0.47103677, 0.20274799,\n",
      "       0.11261044, 2.9218295 , 0.22023773, 0.3255446 , 1.22643706,\n",
      "       0.59672838, 0.35560964, 2.09414155, 2.10875582, 0.34393833]), 'population': 100, 'phi': 0.04, 'invariant': 15384615.384615384}}]\n",
      "[{'N': 1, 'T': range(0, 1000), 'M': {'kappa': 2, 'lambda': 20, 'gains': array([0.94131832, 0.26859354, 0.38110061, 0.51706446, 0.31427464,\n",
      "       0.46273963, 1.14456103, 0.82062798, 1.7733353 , 1.68972652,\n",
      "       1.58607992, 9.5576631 , 1.33215736, 0.34555754, 1.05102631,\n",
      "       0.87502626, 0.25799865, 1.40254163, 1.00796124, 0.20241237,\n",
      "       0.22333319, 0.55512391, 1.44572973, 0.82470992, 0.1753408 ,\n",
      "       0.2960016 , 1.04558639, 0.60526736, 0.20739984, 0.33951077,\n",
      "       0.18362902, 1.61284755, 2.46998174, 1.30059563, 2.02792526,\n",
      "       0.56919073, 0.544894  , 0.29838542, 0.50574184, 0.14589808,\n",
      "       0.30869799, 0.72239021, 2.24171138, 0.36108484, 1.45080069,\n",
      "       0.34127224, 0.68552167, 2.73614881, 0.33471352, 1.18434063,\n",
      "       0.9470007 , 0.50593117, 3.07283481, 0.61362619, 0.78991929,\n",
      "       0.30048405, 1.35454682, 1.04858323, 1.18668756, 1.39095441,\n",
      "       0.35881591, 0.43675517, 0.61875908, 1.11243611, 0.95473521,\n",
      "       0.97550478, 0.12143258, 0.72174688, 0.99402087, 1.83551415,\n",
      "       3.22624923, 1.68488665, 2.30210848, 3.57951071, 0.79525259,\n",
      "       0.78262467, 0.29161745, 0.27106025, 1.04717585, 1.16452491,\n",
      "       0.94290594, 0.31144239, 0.93099942, 0.56022315, 0.88692378,\n",
      "       0.12568412, 0.42179193, 4.31313433, 0.47103677, 0.20274799,\n",
      "       0.11261044, 2.9218295 , 0.22023773, 0.3255446 , 1.22643706,\n",
      "       0.59672838, 0.35560964, 2.09414155, 2.10875582, 0.34393833]), 'population': 100, 'phi': 0.02, 'invariant': 15384615.384615384}}, {'N': 1, 'T': range(0, 1000), 'M': {'kappa': 2, 'lambda': 20, 'gains': array([0.94131832, 0.26859354, 0.38110061, 0.51706446, 0.31427464,\n",
      "       0.46273963, 1.14456103, 0.82062798, 1.7733353 , 1.68972652,\n",
      "       1.58607992, 9.5576631 , 1.33215736, 0.34555754, 1.05102631,\n",
      "       0.87502626, 0.25799865, 1.40254163, 1.00796124, 0.20241237,\n",
      "       0.22333319, 0.55512391, 1.44572973, 0.82470992, 0.1753408 ,\n",
      "       0.2960016 , 1.04558639, 0.60526736, 0.20739984, 0.33951077,\n",
      "       0.18362902, 1.61284755, 2.46998174, 1.30059563, 2.02792526,\n",
      "       0.56919073, 0.544894  , 0.29838542, 0.50574184, 0.14589808,\n",
      "       0.30869799, 0.72239021, 2.24171138, 0.36108484, 1.45080069,\n",
      "       0.34127224, 0.68552167, 2.73614881, 0.33471352, 1.18434063,\n",
      "       0.9470007 , 0.50593117, 3.07283481, 0.61362619, 0.78991929,\n",
      "       0.30048405, 1.35454682, 1.04858323, 1.18668756, 1.39095441,\n",
      "       0.35881591, 0.43675517, 0.61875908, 1.11243611, 0.95473521,\n",
      "       0.97550478, 0.12143258, 0.72174688, 0.99402087, 1.83551415,\n",
      "       3.22624923, 1.68488665, 2.30210848, 3.57951071, 0.79525259,\n",
      "       0.78262467, 0.29161745, 0.27106025, 1.04717585, 1.16452491,\n",
      "       0.94290594, 0.31144239, 0.93099942, 0.56022315, 0.88692378,\n",
      "       0.12568412, 0.42179193, 4.31313433, 0.47103677, 0.20274799,\n",
      "       0.11261044, 2.9218295 , 0.22023773, 0.3255446 , 1.22643706,\n",
      "       0.59672838, 0.35560964, 2.09414155, 2.10875582, 0.34393833]), 'population': 100, 'phi': 0.04, 'invariant': 15384615.384615384}}]\n"
     ]
    }
   ],
   "source": [
    "from cadCAD.configuration import append_configs\n",
    "# # # # # # # # # # # # # # # # # # # # # # # # # # # # # # # # # # # # # # # # # # # # # # # #\n",
    "# The configurations above are then packaged into a `Configuration` object\n",
    "append_configs(\n",
    "    initial_state=initial_conditions, #dict containing variable names and initial values\n",
    "    partial_state_update_blocks=partial_state_update_blocks, #dict containing state update functions\n",
    "    sim_configs=simulation_parameters #dict containing simulation parameters\n",
    ")"
   ]
  },
  {
   "cell_type": "code",
   "execution_count": 17,
   "metadata": {},
   "outputs": [],
   "source": [
    "from tabulate import tabulate\n",
    "from cadCAD.engine import ExecutionMode, ExecutionContext, Executor\n",
    "from cadCAD import configs\n",
    "import pandas as pd\n",
    "\n",
    "exec_mode = ExecutionMode()\n",
    "multi_proc_ctx = ExecutionContext(context=exec_mode.multi_proc)\n",
    "run = Executor(exec_context=multi_proc_ctx, configs=configs)"
   ]
  },
  {
   "cell_type": "code",
   "execution_count": 18,
   "metadata": {},
   "outputs": [
    {
     "name": "stdout",
     "output_type": "stream",
     "text": [
      "\n",
      "                            __________   ____ \n",
      "          ________ __ _____/ ____/   |  / __ \\\n",
      "         / ___/ __` / __  / /   / /| | / / / /\n",
      "        / /__/ /_/ / /_/ / /___/ ___ |/ /_/ / \n",
      "        \\___/\\__,_/\\__,_/\\____/_/  |_/_____/  \n",
      "        by BlockScience\n",
      "        \n",
      "Execution Mode: multi_proc: [<cadCAD.configuration.Configuration object at 0x1a1bc624e0>, <cadCAD.configuration.Configuration object at 0x1a1bcc9f60>]\n",
      "Configurations: [<cadCAD.configuration.Configuration object at 0x1a1bc624e0>, <cadCAD.configuration.Configuration object at 0x1a1bcc9f60>]\n"
     ]
    }
   ],
   "source": [
    "i = 0\n",
    "verbose = False\n",
    "results = {}\n",
    "for raw_result, tensor_field in run.execute():\n",
    "    result = pd.DataFrame(raw_result)\n",
    "    if verbose:\n",
    "        print()\n",
    "        print(f\"Tensor Field: {type(tensor_field)}\")\n",
    "        print(tabulate(tensor_field, headers='keys', tablefmt='psql'))\n",
    "        print(f\"Output: {type(result)}\")\n",
    "        print(tabulate(result, headers='keys', tablefmt='psql'))\n",
    "        print()\n",
    "    results[i] = {}\n",
    "    results[i]['result'] = result\n",
    "    results[i]['simulation_parameters'] = simulation_parameters[i]\n",
    "    i += 1\n",
    "    "
   ]
  },
  {
   "cell_type": "code",
   "execution_count": 19,
   "metadata": {},
   "outputs": [],
   "source": [
    "experiment_index = 0\n",
    "df = results[experiment_index]['result']"
   ]
  },
  {
   "cell_type": "code",
   "execution_count": 20,
   "metadata": {},
   "outputs": [
    {
     "data": {
      "text/plain": [
       "<matplotlib.axes._subplots.AxesSubplot at 0x1a1be02f60>"
      ]
     },
     "execution_count": 20,
     "metadata": {},
     "output_type": "execute_result"
    },
    {
     "data": {
      "image/png": "[encoded data removed]",
      "text/plain": [
       "<matplotlib.figure.Figure at 0x1a1be02978>"
      ]
     },
     "metadata": {},
     "output_type": "display_data"
    }
   ],
   "source": [
    "df.funds.apply(np.log).plot()"
   ]
  },
  {
   "cell_type": "code",
   "execution_count": 21,
   "metadata": {},
   "outputs": [
    {
     "data": {
      "text/plain": [
       "<matplotlib.axes._subplots.AxesSubplot at 0x1a1c869fd0>"
      ]
     },
     "execution_count": 21,
     "metadata": {},
     "output_type": "execute_result"
    },
    {
     "data": {
      "image/png": "[encoded data removed]",
      "text/plain": [
       "<matplotlib.figure.Figure at 0x1a1be020b8>"
      ]
     },
     "metadata": {},
     "output_type": "display_data"
    }
   ],
   "source": [
    "(df.funds.diff()/df.funds).hist()"
   ]
  },
  {
   "cell_type": "code",
   "execution_count": 22,
   "metadata": {},
   "outputs": [],
   "source": [
    "rdf = df[df.substep == 3]"
   ]
  },
  {
   "cell_type": "code",
   "execution_count": 29,
   "metadata": {},
   "outputs": [
    {
     "data": {
      "text/plain": [
       "<matplotlib.legend.Legend at 0x1a1c23d2b0>"
      ]
     },
     "execution_count": 29,
     "metadata": {},
     "output_type": "execute_result"
    },
    {
     "data": {
      "image/png": "[encoded data removed]",
      "text/plain": [
       "<matplotlib.figure.Figure at 0x1a1c079da0>"
      ]
     },
     "metadata": {},
     "output_type": "display_data"
    }
   ],
   "source": [
    "rdf.prices.apply(np.min).plot()\n",
    "rdf.prices.apply(np.median).plot()\n",
    "rdf.prices.apply(np.mean).plot()\n",
    "rdf.prices.apply(np.max).plot()\n",
    "rdf.spot_price.plot()\n",
    "plt.legend(['min', 'median','mean','max', 'spot'])"
   ]
  },
  {
   "cell_type": "code",
   "execution_count": 24,
   "metadata": {},
   "outputs": [
    {
     "data": {
      "text/plain": [
       "3       {'agent': 17, 'mech': 'burn', 'amt': 1000}\n",
       "6       {'agent': 36, 'mech': 'burn', 'amt': 1000}\n",
       "9       {'agent': 83, 'mech': 'burn', 'amt': 1000}\n",
       "12      {'agent': 19, 'mech': 'burn', 'amt': 1000}\n",
       "15      {'agent': 70, 'mech': 'burn', 'amt': 1000}\n",
       "18      {'agent': 92, 'mech': 'burn', 'amt': 1000}\n",
       "21       {'agent': 3, 'mech': 'burn', 'amt': 1000}\n",
       "24       {'agent': 6, 'mech': 'burn', 'amt': 1000}\n",
       "27      {'agent': 57, 'mech': 'burn', 'amt': 1000}\n",
       "30      {'agent': 60, 'mech': 'burn', 'amt': 1000}\n",
       "33      {'agent': 63, 'mech': 'burn', 'amt': 1000}\n",
       "36      {'agent': 10, 'mech': 'burn', 'amt': 1000}\n",
       "39      {'agent': 20, 'mech': 'burn', 'amt': 1000}\n",
       "42      {'agent': 93, 'mech': 'burn', 'amt': 1000}\n",
       "45      {'agent': 85, 'mech': 'burn', 'amt': 1000}\n",
       "48      {'agent': 52, 'mech': 'burn', 'amt': 1000}\n",
       "51       {'agent': 1, 'mech': 'burn', 'amt': 1000}\n",
       "54      {'agent': 17, 'mech': 'burn', 'amt': 1000}\n",
       "57      {'agent': 18, 'mech': 'burn', 'amt': 1000}\n",
       "60      {'agent': 48, 'mech': 'burn', 'amt': 1000}\n",
       "63      {'agent': 26, 'mech': 'burn', 'amt': 1000}\n",
       "66      {'agent': 79, 'mech': 'burn', 'amt': 1000}\n",
       "69      {'agent': 24, 'mech': 'burn', 'amt': 1000}\n",
       "72      {'agent': 83, 'mech': 'burn', 'amt': 1000}\n",
       "75      {'agent': 85, 'mech': 'burn', 'amt': 1000}\n",
       "78       {'agent': 1, 'mech': 'burn', 'amt': 1000}\n",
       "81       {'agent': 3, 'mech': 'burn', 'amt': 1000}\n",
       "84      {'agent': 81, 'mech': 'burn', 'amt': 1000}\n",
       "87      {'agent': 41, 'mech': 'burn', 'amt': 1000}\n",
       "90      {'agent': 68, 'mech': 'burn', 'amt': 1000}\n",
       "                           ...                    \n",
       "2913    {'agent': 57, 'mech': 'burn', 'amt': 1000}\n",
       "2916    {'agent': 57, 'mech': 'burn', 'amt': 1000}\n",
       "2919    {'agent': 25, 'mech': 'burn', 'amt': 1000}\n",
       "2922    {'agent': 71, 'mech': 'burn', 'amt': 1000}\n",
       "2925     {'agent': 8, 'mech': 'burn', 'amt': 1000}\n",
       "2928    {'agent': 14, 'mech': 'burn', 'amt': 1000}\n",
       "2931    {'agent': 14, 'mech': 'burn', 'amt': 1000}\n",
       "2934     {'agent': 3, 'mech': 'burn', 'amt': 1000}\n",
       "2937    {'agent': 26, 'mech': 'burn', 'amt': 1000}\n",
       "2940    {'agent': 55, 'mech': 'burn', 'amt': 1000}\n",
       "2943    {'agent': 78, 'mech': 'burn', 'amt': 1000}\n",
       "2946    {'agent': 98, 'mech': 'burn', 'amt': 1000}\n",
       "2949    {'agent': 34, 'mech': 'burn', 'amt': 1000}\n",
       "2952     {'agent': 4, 'mech': 'burn', 'amt': 1000}\n",
       "2955    {'agent': 39, 'mech': 'burn', 'amt': 1000}\n",
       "2958    {'agent': 73, 'mech': 'burn', 'amt': 1000}\n",
       "2961    {'agent': 71, 'mech': 'burn', 'amt': 1000}\n",
       "2964    {'agent': 63, 'mech': 'burn', 'amt': 1000}\n",
       "2967    {'agent': 84, 'mech': 'burn', 'amt': 1000}\n",
       "2970    {'agent': 17, 'mech': 'burn', 'amt': 1000}\n",
       "2973     {'agent': 3, 'mech': 'burn', 'amt': 1000}\n",
       "2976    {'agent': 34, 'mech': 'burn', 'amt': 1000}\n",
       "2979    {'agent': 72, 'mech': 'burn', 'amt': 1000}\n",
       "2982    {'agent': 82, 'mech': 'burn', 'amt': 1000}\n",
       "2985    {'agent': 35, 'mech': 'burn', 'amt': 1000}\n",
       "2988    {'agent': 39, 'mech': 'burn', 'amt': 1000}\n",
       "2991    {'agent': 67, 'mech': 'burn', 'amt': 1000}\n",
       "2994    {'agent': 88, 'mech': 'burn', 'amt': 1000}\n",
       "2997    {'agent': 75, 'mech': 'burn', 'amt': 1000}\n",
       "3000    {'agent': 65, 'mech': 'burn', 'amt': 1000}\n",
       "Name: action, Length: 1000, dtype: object"
      ]
     },
     "execution_count": 24,
     "metadata": {},
     "output_type": "execute_result"
    }
   ],
   "source": [
    "rdf.action"
   ]
  },
  {
   "cell_type": "code",
   "execution_count": 25,
   "metadata": {},
   "outputs": [
    {
     "data": {
      "text/plain": [
       "<matplotlib.axes._subplots.AxesSubplot at 0x1a1c8fee80>"
      ]
     },
     "execution_count": 25,
     "metadata": {},
     "output_type": "execute_result"
    },
    {
     "data": {
      "image/png": "[encoded data removed]",
      "text/plain": [
       "<matplotlib.figure.Figure at 0x1a1d2de358>"
      ]
     },
     "metadata": {},
     "output_type": "display_data"
    }
   ],
   "source": [
    "rdf.spot_price.plot()"
   ]
  },
  {
   "cell_type": "code",
   "execution_count": null,
   "metadata": {},
   "outputs": [],
   "source": []
  }
 ],
 "metadata": {
  "kernelspec": {
   "display_name": "Python 3",
   "language": "python",
   "name": "python3"
  },
  "language_info": {
   "codemirror_mode": {
    "name": "ipython",
    "version": 3
   },
   "file_extension": ".py",
   "mimetype": "text/x-python",
   "name": "python",
   "nbconvert_exporter": "python",
   "pygments_lexer": "ipython3",
   "version": "3.6.4"
  }
 },
 "nbformat": 4,
 "nbformat_minor": 2
}
