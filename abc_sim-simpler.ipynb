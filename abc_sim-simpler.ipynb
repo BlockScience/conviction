{
 "cells": [
  {
   "cell_type": "code",
   "execution_count": 1,
   "metadata": {},
   "outputs": [],
   "source": [
    "#import networkx as nx\n",
    "import matplotlib.pyplot as plt\n",
    "import numpy as np\n",
    "import scipy.stats as sts\n",
    "import seaborn as sns\n",
    "\n",
    "%matplotlib inline\n",
    "\n",
    "#import conviction files\n",
    "#from conviction_helpers import *\n",
    "#from conviction_system_logic3 import *\n",
    "from bonding_curve_eq import *"
   ]
  },
  {
   "cell_type": "markdown",
   "metadata": {},
   "source": [
    "System initialization"
   ]
  },
  {
   "cell_type": "code",
   "execution_count": 2,
   "metadata": {},
   "outputs": [],
   "source": [
    "hatch_raise = 100000 # fiat units\n",
    "hatch_price = .1 #fiat per tokens\n",
    "theta = .5 #share of funds going to funding pool at launch\n",
    "\n",
    "R0 = hatch_raise*(1-theta)\n",
    "F0 = hatch_raise*theta\n",
    "S0 = hatch_raise/hatch_price\n",
    "\n",
    "kappa = 2\n",
    "V0 = invariant(R0,S0,kappa)\n",
    "P0 = spot_price(R0, V0, kappa)\n",
    "\n",
    "dust = 10**-8"
   ]
  },
  {
   "cell_type": "markdown",
   "metadata": {},
   "source": [
    "agent initialization"
   ]
  },
  {
   "cell_type": "code",
   "execution_count": 3,
   "metadata": {},
   "outputs": [],
   "source": [
    "#number of agents\n",
    "n= 100\n",
    "\n",
    "#gain factors\n",
    "g = np.random.normal(2, .5, size=n)\n",
    "phat0 = g*F0/S0 #derivative, integral and proportion\n",
    "#agents as controllers, co-steering\n",
    "\n",
    "#wakeup rates\n",
    "gamma =  sts.expon.rvs(loc=1,scale=5, size=n)\n",
    "\n",
    "#holdings fiat\n",
    "h = sts.expon.rvs( loc=100,scale=1000, size=n)\n",
    "\n",
    "#holdings tokens\n",
    "s_dist = sts.expon.rvs(loc=10, scale=10, size=n)\n",
    "s0 = s_dist/sum(s_dist)*S0\n",
    "\n",
    "#lambda for revenue process\n",
    "lam = 200\n",
    "\n",
    "#phi for exiting funds\n",
    "phi = 0\n",
    "\n",
    "#beta is param for armijo rule\n",
    "beta = .9\n",
    "\n",
    "#param for open loop\n",
    "rules = [\"step\", \"ramp\", \"martin\"] # step or \"ramp\" or \"martin\""
   ]
  },
  {
   "cell_type": "code",
   "execution_count": 4,
   "metadata": {},
   "outputs": [],
   "source": [
    "params= {\n",
    "    'kappa': [kappa],\n",
    "#    'lambda': [lam],\n",
    "#    'gains': [g],\n",
    "#    'rates':[1/gamma],\n",
    "#    'population':[n],\n",
    "#   'beta':[beta],\n",
    "    'phi': [phi],\n",
    "    'invariant': [V0],\n",
    "    'dust' : [dust],\n",
    "    'rule' : rules,\n",
    "    'dP' : [P0/100]}"
   ]
  },
  {
   "cell_type": "code",
   "execution_count": 5,
   "metadata": {},
   "outputs": [],
   "source": [
    "initial_conditions = {'supply': S0,\n",
    "                      'price': P0,\n",
    "                      'reserve': R0,\n",
    "                      'spot_price': P0\n",
    "                      }"
   ]
  },
  {
   "cell_type": "code",
   "execution_count": 6,
   "metadata": {},
   "outputs": [
    {
     "data": {
      "text/plain": [
       "{'price': 0.09999999999999999,\n",
       " 'reserve': 50000.0,\n",
       " 'spot_price': 0.09999999999999999,\n",
       " 'supply': 1000000.0}"
      ]
     },
     "execution_count": 6,
     "metadata": {},
     "output_type": "execute_result"
    }
   ],
   "source": [
    "initial_conditions"
   ]
  },
  {
   "cell_type": "code",
   "execution_count": 7,
   "metadata": {},
   "outputs": [],
   "source": [
    "def set_action(params, step, sL, s):\n",
    "    \n",
    "    R = s['reserve']\n",
    "    S = s['supply']\n",
    "    V0 = params['invariant']\n",
    "    P=s['spot_price']\n",
    "    \n",
    "    if params['rule'] == 'step':\n",
    "        new_price = s['price']\n",
    "    elif params['rule'] == 'ramp':\n",
    "        new_price = s['price'] + params['dP']\n",
    "    else :\n",
    "        rv = np.random.normal(1.0, .05, size=1)\n",
    "        new_price = rv*s['price']\n",
    "        \n",
    "    if P>new_price: #equiv: pbar(0)>phat_a\n",
    "        mech = 'burn'\n",
    "                        \n",
    "        #approx for burn s.t. p=phat\n",
    "        #armijo style\n",
    "        amt = 9*S/10\n",
    "\n",
    "        def pbar(amt):\n",
    "            output = withdraw(amt, R,S, V0, params['kappa'])\n",
    "\n",
    "            if not(output[1])>0:\n",
    "                return np.Infinity\n",
    "            elif amt==0:\n",
    "                return P\n",
    "            else:\n",
    "                return output[1]\n",
    "\n",
    "        if amt > params['dust']:\n",
    "            while pbar(amt)< new_price:\n",
    "                amt = amt*beta\n",
    "\n",
    "    else: # P<phat_a; #equiv pbar(0)<phat_a\n",
    "        mech = 'bond'\n",
    "        #approx for buy s.t. p=phat\n",
    "        #armijo style\n",
    "        amt = 9*R/10\n",
    "\n",
    "        def pbar(amt):\n",
    "            output = mint(amt, R,S, V0, params['kappa'])\n",
    "            \n",
    "            if not(output[1])>0:\n",
    "                return 0\n",
    "            elif amt==0:\n",
    "                return P\n",
    "            else:\n",
    "                return output[1]\n",
    "\n",
    "        if amt > params['dust']:\n",
    "            while pbar(amt)> new_price:\n",
    "                amt = amt*beta\n",
    "    #print(mech)\n",
    "    #print(amt)\n",
    "    action = {'mech':mech, 'amt':amt, 'pbar':pbar(amt),'posterior':{}}\n",
    "    \n",
    "    if action['mech'] == 'bond':\n",
    "\n",
    "        dS, pbar = mint(amt, R,S, V0, params['kappa'])\n",
    "        R = R+amt\n",
    "        S = S+dS\n",
    "        P = spot_price(R, V0, kappa)\n",
    "\n",
    "    elif action['mech'] == 'burn':\n",
    "        dR, pbar = withdraw(amt, R,S, V0, params['kappa'])\n",
    "        R = R-dR\n",
    "        S = S-amt\n",
    "        P = spot_price(R, V0, kappa)\n",
    "\n",
    "    action['posterior'] = {'S':S, 'R':R,'P':P}\n",
    "    \n",
    "    return {'action': action}"
   ]
  },
  {
   "cell_type": "code",
   "execution_count": 8,
   "metadata": {},
   "outputs": [],
   "source": [
    "def update_S(params, step, sL, s, _input):\n",
    "    \n",
    "    action = _input['action']\n",
    "    S = action['posterior']['S']\n",
    "    \n",
    "    key = 'supply'\n",
    "    value = S\n",
    "    \n",
    "    return (key, value)\n",
    "\n",
    "def update_R(params, step, sL, s, _input):\n",
    "    \n",
    "    action = _input['action']\n",
    "    R = action['posterior']['R']\n",
    "    \n",
    "    key = 'reserve'\n",
    "    value = R\n",
    "    \n",
    "    return (key, value)\n",
    "\n",
    "def update_P(params, step, sL, s, _input):\n",
    "    \n",
    "    action = _input['action']\n",
    "    P = action['posterior']['P']\n",
    "    \n",
    "    key = 'spot_price'\n",
    "    value = P\n",
    "    \n",
    "    return (key, value)\n",
    "\n",
    "def update_Pbar(params, step, sL, s, _input):\n",
    "    \n",
    "    action = _input['action']\n",
    "    pbar = action['pbar']\n",
    "    \n",
    "    key = 'price'\n",
    "    value = pbar\n",
    "    \n",
    "    return (key, value)"
   ]
  },
  {
   "cell_type": "code",
   "execution_count": 9,
   "metadata": {},
   "outputs": [],
   "source": [
    "# # # # # # # # # # # # # # # # # # # # # # # # # # # # # # # # # # # # # # # # # # # # # # # # \n",
    "# The Partial State Update Blocks\n",
    "partial_state_update_blocks = [\n",
    "    {\n",
    "      'policies': {\n",
    "          'act': set_action,\n",
    "        },\n",
    "        'variables': {\n",
    "            'supply': update_S, \n",
    "            'reserve': update_R,\n",
    "            'spot_price': update_P,\n",
    "            'price': update_Pbar\n",
    "        }\n",
    "    }\n",
    "]"
   ]
  },
  {
   "cell_type": "code",
   "execution_count": 10,
   "metadata": {},
   "outputs": [],
   "source": [
    "time_periods_per_run = 5000\n",
    "monte_carlo_runs = 1\n",
    "\n",
    "from cadCAD.configuration.utils import config_sim\n",
    "simulation_parameters = config_sim({\n",
    "    'T': range(time_periods_per_run),\n",
    "    'N': monte_carlo_runs,\n",
    "    'M': params\n",
    "})"
   ]
  },
  {
   "cell_type": "code",
   "execution_count": 11,
   "metadata": {},
   "outputs": [
    {
     "name": "stdout",
     "output_type": "stream",
     "text": [
      "[{'N': 1, 'T': range(0, 5000), 'M': {'kappa': 2, 'phi': 0, 'invariant': 20000000.0, 'dust': 1e-08, 'rule': 'step', 'dP': 0.001}}, {'N': 1, 'T': range(0, 5000), 'M': {'kappa': 2, 'phi': 0, 'invariant': 20000000.0, 'dust': 1e-08, 'rule': 'ramp', 'dP': 0.001}}, {'N': 1, 'T': range(0, 5000), 'M': {'kappa': 2, 'phi': 0, 'invariant': 20000000.0, 'dust': 1e-08, 'rule': 'martin', 'dP': 0.001}}]\n",
      "[{'N': 1, 'T': range(0, 5000), 'M': {'kappa': 2, 'phi': 0, 'invariant': 20000000.0, 'dust': 1e-08, 'rule': 'step', 'dP': 0.001}}, {'N': 1, 'T': range(0, 5000), 'M': {'kappa': 2, 'phi': 0, 'invariant': 20000000.0, 'dust': 1e-08, 'rule': 'ramp', 'dP': 0.001}}, {'N': 1, 'T': range(0, 5000), 'M': {'kappa': 2, 'phi': 0, 'invariant': 20000000.0, 'dust': 1e-08, 'rule': 'martin', 'dP': 0.001}}]\n",
      "[{'N': 1, 'T': range(0, 5000), 'M': {'kappa': 2, 'phi': 0, 'invariant': 20000000.0, 'dust': 1e-08, 'rule': 'step', 'dP': 0.001}}, {'N': 1, 'T': range(0, 5000), 'M': {'kappa': 2, 'phi': 0, 'invariant': 20000000.0, 'dust': 1e-08, 'rule': 'ramp', 'dP': 0.001}}, {'N': 1, 'T': range(0, 5000), 'M': {'kappa': 2, 'phi': 0, 'invariant': 20000000.0, 'dust': 1e-08, 'rule': 'martin', 'dP': 0.001}}]\n"
     ]
    }
   ],
   "source": [
    "from cadCAD.configuration import append_configs\n",
    "# # # # # # # # # # # # # # # # # # # # # # # # # # # # # # # # # # # # # # # # # # # # # # # #\n",
    "# The configurations above are then packaged into a `Configuration` object\n",
    "append_configs(\n",
    "    initial_state=initial_conditions, #dict containing variable names and initial values\n",
    "    partial_state_update_blocks=partial_state_update_blocks, #dict containing state update functions\n",
    "    sim_configs=simulation_parameters #dict containing simulation parameters\n",
    ")"
   ]
  },
  {
   "cell_type": "code",
   "execution_count": 12,
   "metadata": {},
   "outputs": [],
   "source": [
    "from tabulate import tabulate\n",
    "from cadCAD.engine import ExecutionMode, ExecutionContext, Executor\n",
    "from cadCAD import configs\n",
    "import pandas as pd\n",
    "\n",
    "exec_mode = ExecutionMode()\n",
    "multi_proc_ctx = ExecutionContext(context=exec_mode.multi_proc)\n",
    "run = Executor(exec_context=multi_proc_ctx, configs=configs)"
   ]
  },
  {
   "cell_type": "code",
   "execution_count": 13,
   "metadata": {},
   "outputs": [
    {
     "name": "stdout",
     "output_type": "stream",
     "text": [
      "\n",
      "                            __________   ____ \n",
      "          ________ __ _____/ ____/   |  / __ \\\n",
      "         / ___/ __` / __  / /   / /| | / / / /\n",
      "        / /__/ /_/ / /_/ / /___/ ___ |/ /_/ / \n",
      "        \\___/\\__,_/\\__,_/\\____/_/  |_/_____/  \n",
      "        by BlockScience\n",
      "        \n",
      "Execution Mode: multi_proc: [<cadCAD.configuration.Configuration object at 0x1a1a74c898>, <cadCAD.configuration.Configuration object at 0x1a1a74c438>, <cadCAD.configuration.Configuration object at 0x1a1a74c8d0>]\n",
      "Configurations: [<cadCAD.configuration.Configuration object at 0x1a1a74c898>, <cadCAD.configuration.Configuration object at 0x1a1a74c438>, <cadCAD.configuration.Configuration object at 0x1a1a74c8d0>]\n"
     ]
    }
   ],
   "source": [
    "i = 0\n",
    "verbose = False\n",
    "results = {}\n",
    "for raw_result, tensor_field in run.execute():\n",
    "    result = pd.DataFrame(raw_result)\n",
    "    if verbose:\n",
    "        print()\n",
    "        print(f\"Tensor Field: {type(tensor_field)}\")\n",
    "        print(tabulate(tensor_field, headers='keys', tablefmt='psql'))\n",
    "        print(f\"Output: {type(result)}\")\n",
    "        print(tabulate(result, headers='keys', tablefmt='psql'))\n",
    "        print()\n",
    "    results[i] = {}\n",
    "    results[i]['result'] = result\n",
    "    results[i]['simulation_parameters'] = simulation_parameters[i]\n",
    "    i += 1\n",
    "    "
   ]
  },
  {
   "cell_type": "code",
   "execution_count": 42,
   "metadata": {},
   "outputs": [],
   "source": [
    "experiment_index = 2\n",
    "df = results[experiment_index]['result']"
   ]
  },
  {
   "cell_type": "code",
   "execution_count": null,
   "metadata": {},
   "outputs": [],
   "source": []
  },
  {
   "cell_type": "code",
   "execution_count": 43,
   "metadata": {},
   "outputs": [
    {
     "data": {
      "text/plain": [
       "<matplotlib.axes._subplots.AxesSubplot at 0x1a2805fcc0>"
      ]
     },
     "execution_count": 43,
     "metadata": {},
     "output_type": "execute_result"
    },
    {
     "data": {
      "image/png": "[encoded data removed]",
      "text/plain": [
       "<matplotlib.figure.Figure at 0x1a2801b400>"
      ]
     },
     "metadata": {},
     "output_type": "display_data"
    }
   ],
   "source": [
    "df[['price', 'spot_price']].plot(logx=True,logy=True)"
   ]
  },
  {
   "cell_type": "code",
   "execution_count": 44,
   "metadata": {},
   "outputs": [],
   "source": [
    "df['err'] = df.price-df.spot_price\n",
    "df['abs_err']= df.err.apply(abs)"
   ]
  },
  {
   "cell_type": "code",
   "execution_count": 45,
   "metadata": {},
   "outputs": [
    {
     "data": {
      "text/plain": [
       "<matplotlib.axes._subplots.AxesSubplot at 0x1a283aa320>"
      ]
     },
     "execution_count": 45,
     "metadata": {},
     "output_type": "execute_result"
    },
    {
     "data": {
      "image/png": "[encoded data removed]",
      "text/plain": [
       "<matplotlib.figure.Figure at 0x1a28514400>"
      ]
     },
     "metadata": {},
     "output_type": "display_data"
    }
   ],
   "source": [
    "df.err.plot(logx=True)"
   ]
  },
  {
   "cell_type": "code",
   "execution_count": 46,
   "metadata": {},
   "outputs": [
    {
     "data": {
      "text/plain": [
       "<matplotlib.axes._subplots.AxesSubplot at 0x1a24be2a90>"
      ]
     },
     "execution_count": 46,
     "metadata": {},
     "output_type": "execute_result"
    },
    {
     "data": {
      "image/png": "[encoded data removed]",
      "text/plain": [
       "<matplotlib.figure.Figure at 0x1a24bf8780>"
      ]
     },
     "metadata": {},
     "output_type": "display_data"
    }
   ],
   "source": [
    "df.abs_err.plot(logy=True,logx=True)"
   ]
  },
  {
   "cell_type": "code",
   "execution_count": 47,
   "metadata": {},
   "outputs": [
    {
     "name": "stdout",
     "output_type": "stream",
     "text": [
      "(-24.950000000000003, 523.95, 0.007385063849679161, 0.18002817347004746)\n"
     ]
    },
    {
     "data": {
      "image/png": "[encoded data removed]",
      "text/plain": [
       "<matplotlib.figure.Figure at 0x1a264973c8>"
      ]
     },
     "metadata": {},
     "output_type": "display_data"
    }
   ],
   "source": [
    "df[['price', 'spot_price']].head(500).plot()\n",
    "print(plt.gca().axis())"
   ]
  },
  {
   "cell_type": "code",
   "execution_count": null,
   "metadata": {},
   "outputs": [],
   "source": []
  },
  {
   "cell_type": "code",
   "execution_count": null,
   "metadata": {},
   "outputs": [],
   "source": []
  },
  {
   "cell_type": "code",
   "execution_count": null,
   "metadata": {},
   "outputs": [],
   "source": []
  }
 ],
 "metadata": {
  "kernelspec": {
   "display_name": "Python 3",
   "language": "python",
   "name": "python3"
  },
  "language_info": {
   "codemirror_mode": {
    "name": "ipython",
    "version": 3
   },
   "file_extension": ".py",
   "mimetype": "text/x-python",
   "name": "python",
   "nbconvert_exporter": "python",
   "pygments_lexer": "ipython3",
   "version": "3.6.4"
  }
 },
 "nbformat": 4,
 "nbformat_minor": 2
}
