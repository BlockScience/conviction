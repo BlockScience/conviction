{
 "cells": [
  {
   "cell_type": "code",
   "execution_count": 62,
   "metadata": {},
   "outputs": [],
   "source": [
    "from cadCAD.engine import ExecutionMode, ExecutionContext, Executor\n",
    "from cadCAD.configuration import Configuration\n",
    "import networkx as nx\n",
    "import matplotlib.pyplot as plt\n",
    "import numpy as np\n",
    "import scipy.stats as sts\n",
    "import pandas as pd\n",
    "import seaborn as sns\n",
    "%matplotlib inline\n",
    "\n",
    "from scipy.stats import expon, gamma\n"
   ]
  },
  {
   "cell_type": "markdown",
   "metadata": {},
   "source": [
    "This notebook uses the differential games framework developed by BlockScience. It is currently in private beta, and building towards a full open source release.\n",
    "\n",
    "**Description:**\n",
    "\n",
    "cadCAD is a Python library that assists in the processes of designing, testing and validating complex systems through simulation. At its core, cadCAD is a differential games engine that supports parameter sweeping and Monte Carlo analyses and can be easily integrated with other scientific computing Python modules and data science workflows.\n",
    "\n",
    "To learn more about cadCAD, follow our [tutorial series](https://github.com/BlockScience/cadCAD-Tutorials/tree/master/01%20Tutorials)\n",
    "\n",
    "**Installing cadCAD:**\n",
    "\n",
    "cadCAD is in private beta. Tokens are issued to participants. Replace `<TOKEN>` in the installation URL below\n",
    "```bash\n",
    "pip3 install cadCAD --extra-index-url https://<TOKEN>@repo.fury.io/blockscience/\n",
    "```\n",
    "\n",
    "If you'd like to participate in the beta program, contact cadcad [at] block [dot] science.\n"
   ]
  },
  {
   "cell_type": "code",
   "execution_count": 2,
   "metadata": {},
   "outputs": [],
   "source": [
    "#helper functions\n",
    "def get_nodes_by_type(g, node_type_selection):\n",
    "    return [node for node in g.nodes if g.nodes[node]['type']== node_type_selection ]\n",
    "\n",
    "def get_edges_by_type(g, edge_type_selection):\n",
    "    return [edge for edge in g.edges if g.edges[edge]['type']== edge_type_selection ]\n"
   ]
  },
  {
   "cell_type": "code",
   "execution_count": 3,
   "metadata": {},
   "outputs": [
    {
     "name": "stdout",
     "output_type": "stream",
     "text": [
      "125020.46534074425\n"
     ]
    }
   ],
   "source": [
    "#generate an initial set of 'n' participants\n",
    "network = nx.DiGraph()\n",
    "n = 100\n",
    "for i in range(n):\n",
    "    network.add_node(i)\n",
    "    network.nodes[i]['type']=\"participant\"\n",
    "    \n",
    "    h_rv = expon.rvs(loc=0.0, scale=1000)\n",
    "    network.nodes[i]['holdings'] = h_rv\n",
    "    \n",
    "    s_rv = np.random.rand() \n",
    "    network.nodes[i]['sentiment'] = s_rv\n",
    "\n",
    "participants = get_nodes_by_type(network, 'participant')\n",
    "initial_supply = np.sum([ network.nodes[i]['holdings'] for i in participants])\n",
    "print(initial_supply)\n",
    "\n",
    "initial_funds = initial_supply\n"
   ]
  },
  {
   "cell_type": "code",
   "execution_count": 4,
   "metadata": {},
   "outputs": [
    {
     "name": "stdout",
     "output_type": "stream",
     "text": [
      "1.5493976373731984\n"
     ]
    }
   ],
   "source": [
    "#generate initial proposals\n",
    "m = 7\n",
    "for j in range(m):\n",
    "    ind = n+j\n",
    "    network.add_node(ind)\n",
    "    network.nodes[ind]['type']=\"proposal\"\n",
    "    network.nodes[ind]['conviction']=0\n",
    "    network.nodes[ind]['status']='candidate'\n",
    "    network.nodes[ind]['age']=0\n",
    "    \n",
    "    r_rv = gamma.rvs(3,loc=0.001, scale=10000)\n",
    "    network.node[ind]['funds_requested'] = r_rv\n",
    "    \n",
    "    for i in range(n):\n",
    "        network.add_edge(i, ind)\n",
    "        \n",
    "        rv = np.random.rand()\n",
    "        a_rv = 1-4*(1-rv)*rv #polarized distribution\n",
    "        network.edges[(i, ind)]['affinity'] = a_rv\n",
    "        network.edges[(i,ind)]['tokens'] = 0\n",
    "        network.edges[(i, ind)]['conviction'] = 0\n",
    "\n",
    "proposals = get_nodes_by_type(network, 'proposal')\n",
    "total_requested = np.sum([ network.nodes[i]['funds_requested'] for i in proposals])\n",
    "print(total_requested/initial_funds)"
   ]
  },
  {
   "cell_type": "code",
   "execution_count": 5,
   "metadata": {},
   "outputs": [
    {
     "data": {
      "text/plain": [
       "{'type': 'proposal',\n",
       " 'conviction': 0,\n",
       " 'status': 'candidate',\n",
       " 'age': 0,\n",
       " 'funds_requested': 27581.372211726168}"
      ]
     },
     "execution_count": 5,
     "metadata": {},
     "output_type": "execute_result"
    }
   ],
   "source": [
    "network.nodes[get_nodes_by_type(network, 'proposal')[0]]"
   ]
  },
  {
   "cell_type": "code",
   "execution_count": 6,
   "metadata": {},
   "outputs": [
    {
     "data": {
      "text/plain": [
       "{'type': 'participant',\n",
       " 'holdings': 1368.7265371328936,\n",
       " 'sentiment': 0.8242453852153833}"
      ]
     },
     "execution_count": 6,
     "metadata": {},
     "output_type": "execute_result"
    }
   ],
   "source": [
    "network.nodes[get_nodes_by_type(network, 'participant')[0]]"
   ]
  },
  {
   "cell_type": "code",
   "execution_count": 7,
   "metadata": {},
   "outputs": [
    {
     "data": {
      "text/plain": [
       "Text(0.5, 1.0, 'Histogram of Participants Token Holdings')"
      ]
     },
     "execution_count": 7,
     "metadata": {},
     "output_type": "execute_result"
    },
    {
     "data": {
      "image/png": "[encoded data removed]",
      "text/plain": [
       "<Figure size 432x288 with 1 Axes>"
      ]
     },
     "metadata": {
      "needs_background": "light"
     },
     "output_type": "display_data"
    }
   ],
   "source": [
    "plt.hist([ network.nodes[i]['holdings'] for i in participants])\n",
    "plt.title('Histogram of Participants Token Holdings')"
   ]
  },
  {
   "cell_type": "code",
   "execution_count": 8,
   "metadata": {},
   "outputs": [
    {
     "data": {
      "text/plain": [
       "Text(0.5, 1.0, 'Histogram of Proposals Funds Requested')"
      ]
     },
     "execution_count": 8,
     "metadata": {},
     "output_type": "execute_result"
    },
    {
     "data": {
      "image/png": "[encoded data removed]",
      "text/plain": [
       "<Figure size 432x288 with 1 Axes>"
      ]
     },
     "metadata": {
      "needs_background": "light"
     },
     "output_type": "display_data"
    }
   ],
   "source": [
    "plt.hist([ network.nodes[i]['funds_requested'] for i in proposals])\n",
    "plt.title('Histogram of Proposals Funds Requested')"
   ]
  },
  {
   "cell_type": "code",
   "execution_count": 9,
   "metadata": {},
   "outputs": [
    {
     "data": {
      "text/plain": [
       "Text(0.5, 1.0, 'Histogram of Affinities between Participants and Proposals')"
      ]
     },
     "execution_count": 9,
     "metadata": {},
     "output_type": "execute_result"
    },
    {
     "data": {
      "image/png": "[encoded data removed]",
      "text/plain": [
       "<Figure size 432x288 with 1 Axes>"
      ]
     },
     "metadata": {
      "needs_background": "light"
     },
     "output_type": "display_data"
    }
   ],
   "source": [
    "plt.hist([ network.edges[e]['affinity'] for e in network.edges])\n",
    "plt.title('Histogram of Affinities between Participants and Proposals')"
   ]
  },
  {
   "cell_type": "code",
   "execution_count": 10,
   "metadata": {},
   "outputs": [
    {
     "data": {
      "text/plain": [
       "Text(0.5, 1.0, 'Histogram of Affinities between Participants and Proposals weighted by holdings')"
      ]
     },
     "execution_count": 10,
     "metadata": {},
     "output_type": "execute_result"
    },
    {
     "data": {
      "image/png": "[encoded data removed]",
      "text/plain": [
       "<Figure size 432x288 with 1 Axes>"
      ]
     },
     "metadata": {
      "needs_background": "light"
     },
     "output_type": "display_data"
    }
   ],
   "source": [
    "plt.hist([ network.edges[e]['affinity'] for e in network.edges], weights = [network.nodes[e[0]]['holdings']for e in network.edges],alpha = 1)\n",
    "plt.title('Histogram of Affinities between Participants and Proposals weighted by holdings')"
   ]
  },
  {
   "cell_type": "code",
   "execution_count": 11,
   "metadata": {},
   "outputs": [],
   "source": [
    "T = 200 #iterations of graph update in our simulation\n",
    "#param for conviction accumilation\n",
    "alpha = .5 #later we should set this to be param so we can sweep it\n",
    "\n",
    "#sentiment of the outside world which drives grants\n",
    "initial_sentiment = .8\n",
    "\n",
    "#sentiment decay rate\n",
    "mu =.001 #later we should set this to be param so we can sweep it\n",
    "\n",
    "#maximum share of funds a proposal can take\n",
    "beta = .2 #later we should set this to be param so we can sweep it\n",
    "# tuning param for the trigger function\n",
    "rho = .001\n",
    "\n",
    "#minimum periods passed before a proposal can pass\n",
    "tmin = 7\n",
    "\n",
    "#how close to a participant's highest affinity proposal that\n",
    "#another proposal has to be for them to be happy about its advancement\n",
    "sensitivity = .75"
   ]
  },
  {
   "cell_type": "code",
   "execution_count": 12,
   "metadata": {},
   "outputs": [],
   "source": [
    "# # # # # # # # # # # # # # # # # # # # # # # # # # # # # # # # # # # # # # # # # # # # # # # # \n",
    "# Settings of general simulation parameters, unrelated to the system itself\n",
    "# `T` is a range with the number of discrete units of time the simulation will run for;\n",
    "# `N` is the number of times the simulation will be run (Monte Carlo runs)\n",
    "# We'll cover the `M` key in a future article. For now, let's leave it empty\n",
    "simulation_parameters = {\n",
    "    'T': range(T),\n",
    "    'N': 1,\n",
    "    'M': {}\n",
    "}"
   ]
  },
  {
   "cell_type": "code",
   "execution_count": 13,
   "metadata": {},
   "outputs": [],
   "source": [
    "initial_conditions = {'network':network,\n",
    "                      'supply': initial_supply,\n",
    "                      'funds':initial_funds,\n",
    "                      'sentiment': initial_sentiment}"
   ]
  },
  {
   "cell_type": "code",
   "execution_count": 14,
   "metadata": {},
   "outputs": [],
   "source": [
    "#functions for partial state update block 1\n",
    "\n",
    "def gen_new_participant(network, new_participant_holdings):\n",
    "    \n",
    "    i = len([node for node in network.nodes])\n",
    "    \n",
    "    network.add_node(i)\n",
    "    network.nodes[i]['type']=\"participant\"\n",
    "    \n",
    "    s_rv = np.random.rand() \n",
    "    network.nodes[i]['sentiment'] = s_rv\n",
    "    network.nodes[i]['holdings']=new_participant_holdings\n",
    "    \n",
    "    for j in get_nodes_by_type(network, 'proposal'):\n",
    "        network.add_edge(i, j)\n",
    "        \n",
    "        rv = np.random.rand()\n",
    "        a_rv = 1-4*(1-rv)*rv #polarized distribution\n",
    "        network.edges[(i, j)]['affinity'] = a_rv\n",
    "        network.edges[(i,j)]['tokens'] = a_rv*network.nodes[i]['holdings']\n",
    "        network.edges[(i, j)]['conviction'] = 0\n",
    "    \n",
    "    return network\n",
    "    \n",
    "\n",
    "def gen_new_proposal(network):\n",
    "    j = len([node for node in network.nodes])\n",
    "    network.add_node(j)\n",
    "    network.nodes[j]['type']=\"proposal\"\n",
    "    \n",
    "    network.nodes[j]['conviction']=0\n",
    "    network.nodes[j]['status']='candidate'\n",
    "    network.nodes[j]['age']=0\n",
    "    \n",
    "    r_rv = gamma.rvs(3,loc=0.001, scale=10000)\n",
    "    network.node[j]['funds_requested'] = r_rv\n",
    "    \n",
    "    participants = get_nodes_by_type(network, 'participant')\n",
    "    proposing_participant = np.random.choice(participants)\n",
    "    \n",
    "    for i in participants:\n",
    "        network.add_edge(i, j)\n",
    "        if i==proposing_participant:\n",
    "            network.edges[(i, j)]['affinity']=1\n",
    "        else:\n",
    "            rv = np.random.rand()\n",
    "            a_rv = 1-4*(1-rv)*rv #polarized distribution\n",
    "            network.edges[(i, j)]['affinity'] = a_rv\n",
    "            \n",
    "        network.edges[(i, j)]['conviction'] = 0\n",
    "        network.edges[(i,j)]['tokens'] = 0\n",
    "    return network\n",
    "        \n",
    "        \n",
    "\n",
    "def driving_process(params, step, sL, s):\n",
    "    \n",
    "    #placeholder plumbing for random processes\n",
    "    arrival_rate = 10/s['sentiment']\n",
    "    rv1 = np.random.rand()\n",
    "    new_participant = bool(rv1<1/arrival_rate)\n",
    "    if new_participant:\n",
    "        h_rv = expon.rvs(loc=0.0, scale=1000)\n",
    "        new_participant_holdings = h_rv\n",
    "    else:\n",
    "        new_participant_holdings = 0\n",
    "    \n",
    "    network = s['network']\n",
    "    affinities = [network.edges[e]['affinity'] for e in network.edges ]\n",
    "    median_affinity = np.median(affinities)\n",
    "    \n",
    "    proposals = get_nodes_by_type(network, 'proposal')\n",
    "    fund_requests = [network.nodes[j]['funds_requested'] for j in proposals if network.nodes[j]['status']=='candidate' ]\n",
    "    \n",
    "    funds = s['funds']\n",
    "    total_funds_requested = np.sum(fund_requests)\n",
    "    \n",
    "    proposal_rate = 10/median_affinity * total_funds_requested/funds\n",
    "    rv2 = np.random.rand()\n",
    "    new_proposal = bool(rv2<1/proposal_rate)\n",
    "    \n",
    "    sentiment = s['sentiment']\n",
    "    funds = s['funds']\n",
    "    scale_factor = 1+4000*sentiment**2\n",
    "    \n",
    "    #this shouldn't happen but expon is throwing domain errors\n",
    "    if scale_factor > 1: \n",
    "        funds_arrival = expon.rvs(loc = 0, scale = scale_factor )\n",
    "    else:\n",
    "        funds_arrival = 0\n",
    "    \n",
    "    return({'new_participant':new_participant,\n",
    "            'new_participant_holdings':new_participant_holdings,\n",
    "            'new_proposal':new_proposal, \n",
    "            'funds_arrival':funds_arrival})\n",
    "\n",
    "def update_network(params, step, sL, s, _input):\n",
    "    \n",
    "    network = s['network']\n",
    "    #placeholder plumbing for new proposals and new participants\n",
    "    new_participant = _input['new_participant'] #T/F\n",
    "    new_proposal = _input['new_proposal'] #T/F\n",
    "    # IF THEN logic to create new nodes // left out for now since always FALSE\n",
    "    if new_participant:\n",
    "        new_participant_holdings = _input['new_participant_holdings']\n",
    "        network = gen_new_participant(network, new_participant_holdings)\n",
    "    \n",
    "    if new_proposal:\n",
    "        network= gen_new_proposal(network)\n",
    "    \n",
    "    #update age of the existing proposals\n",
    "    proposals = get_nodes_by_type(network, 'proposal')\n",
    "    for j in proposals:\n",
    "         network.nodes[j]['age']=  network.nodes[j]['age']+1\n",
    "    \n",
    "    key = 'network'\n",
    "    value = network\n",
    "    \n",
    "    return (key, value)\n",
    "\n",
    "def increment_funds(params, step, sL, s, _input):\n",
    "    \n",
    "    funds = s['funds']\n",
    "    funds_arrival = _input['funds_arrival']\n",
    "\n",
    "    #increment funds\n",
    "    funds = funds + funds_arrival\n",
    "    \n",
    "    key = 'funds'\n",
    "    value = funds\n",
    "    \n",
    "    return (key, value)\n",
    "\n",
    "def increment_supply(params, step, sL, s, _input):\n",
    "    \n",
    "    supply = s['supply']\n",
    "    supply_arrival = _input['new_participant_holdings']\n",
    "\n",
    "    #increment funds\n",
    "    supply = supply + supply_arrival\n",
    "    \n",
    "    key = 'supply'\n",
    "    value = supply\n",
    "    \n",
    "    return (key, value)"
   ]
  },
  {
   "cell_type": "code",
   "execution_count": 15,
   "metadata": {},
   "outputs": [],
   "source": [
    "#partial state update block 2\n",
    "def check_progress(params, step, sL, s):\n",
    "    \n",
    "    network = s['network']\n",
    "    proposals = get_nodes_by_type(network, 'proposal')\n",
    "    \n",
    "    completed = []\n",
    "    for j in proposals:\n",
    "        if network.nodes[j]['status'] == 'active':\n",
    "            grant_size = network.nodes[j]['funds_requested']\n",
    "            likelihood = 1.0/(5+np.log(grant_size))\n",
    "            if np.random.rand() < likelihood:\n",
    "                completed.append(j)\n",
    "    \n",
    "    return({'completed':completed})\n",
    "\n",
    "def complete_proposal(params, step, sL, s, _input):\n",
    "    \n",
    "    network = s['network']\n",
    "    participants = get_nodes_by_type(network, 'participant')\n",
    "    \n",
    "    completed = _input['completed']\n",
    "    for j in completed:\n",
    "        network.nodes[j]['status']='completed'\n",
    "        for i in participants:\n",
    "            force = network.edges[(i,j)]['affinity']\n",
    "            sentiment = network.node[i]['sentiment']\n",
    "            network.node[i]['sentiment'] = get_sentimental(sentiment, force, decay=False)\n",
    "    \n",
    "    key = 'network'\n",
    "    value = network\n",
    "    \n",
    "    return (key, value)\n",
    "\n",
    "def update_sentiment_on_completion(params, step, sL, s, _input):\n",
    "    \n",
    "    network = s['network']\n",
    "    proposals = get_nodes_by_type(network, 'proposal')\n",
    "    completed = _input['completed']\n",
    "    \n",
    "    grants_outstanding = np.sum([network.nodes[j]['funds_requested'] for j in proposals if network.nodes[j]['status']=='active'])\n",
    "    \n",
    "    grants_completed = np.sum([network.nodes[j]['funds_requested'] for j in completed])\n",
    "    \n",
    "    sentiment = s['sentiment']\n",
    "    \n",
    "    force = grants_completed/grants_outstanding\n",
    "    if (force >=0) and (force <=1):\n",
    "        sentiment = get_sentimental(sentiment, force, True)\n",
    "    else:\n",
    "        sentiment = get_sentimental(sentiment, 0, True)\n",
    "    \n",
    "    \n",
    "    key = 'sentiment'\n",
    "    value = sentiment\n",
    "    \n",
    "    return (key, value)\n",
    "\n",
    "def get_sentimental(sentiment, force, decay=True):\n",
    "    sentiment = sentiment*(1-int(decay)*mu) + force\n",
    "    \n",
    "    if sentiment > 1:\n",
    "        sentiment = 1\n",
    "        \n",
    "    return sentiment"
   ]
  },
  {
   "cell_type": "code",
   "execution_count": 16,
   "metadata": {},
   "outputs": [],
   "source": [
    "def trigger_threshold(requested, funds, supply):\n",
    "    \n",
    "    share = requested/funds\n",
    "    if share < beta:\n",
    "        return rho*supply/(beta-share)**2\n",
    "    else: \n",
    "        return np.inf\n",
    "        \n",
    "    \n",
    "\n",
    "#partial state update block 3\n",
    "def trigger_function(params, step, sL, s):\n",
    "    \n",
    "    network = s['network']\n",
    "    funds = s['funds']\n",
    "    supply = s['supply']\n",
    "    proposals = get_nodes_by_type(network, 'proposal')\n",
    "    \n",
    "    accepted = []\n",
    "    for j in proposals:\n",
    "        if network.nodes[j]['status'] == 'candidate':\n",
    "            requested = network.nodes[j]['funds_requested']\n",
    "            age = network.nodes[j]['age']\n",
    "            if age > tmin:\n",
    "                threshold = trigger_threshold(requested, funds, supply)\n",
    "                conviction = network.nodes[j]['conviction']\n",
    "                if conviction >threshold:\n",
    "                    accepted.append(j)\n",
    "                    \n",
    "    return({'accepted':accepted})\n",
    "\n",
    "def decrement_funds(params, step, sL, s, _input):\n",
    "    \n",
    "    funds = s['funds']\n",
    "    network = s['network']\n",
    "    accepted = _input['accepted']\n",
    "\n",
    "    #decrement funds\n",
    "    for j in accepted:\n",
    "        funds = funds - network.nodes[j]['funds_requested']\n",
    "    \n",
    "    key = 'funds'\n",
    "    value = funds\n",
    "    \n",
    "    return (key, value)\n",
    "\n",
    "def update_proposals(params, step, sL, s, _input):\n",
    "    \n",
    "    network = s['network']\n",
    "    accepted = _input['accepted']\n",
    "    participants = get_nodes_by_type(network, 'participant')\n",
    "    \n",
    "    #bookkeeping conviction and participant sentiment\n",
    "    for j in accepted:\n",
    "        network.nodes[j]['status']='active'\n",
    "        network.nodes[j]['conviction']=np.nan\n",
    "        #change status to active\n",
    "        for i in participants:\n",
    "        \n",
    "            edge = (i,j)\n",
    "            #reset tokens assigned to other candidates\n",
    "            network.edges[(i,j)]['tokens']=0\n",
    "            network.edges[(i,j)]['conviction'] = np.nan\n",
    "            \n",
    "            #update participants sentiments (positive or negative) \n",
    "            affinities = [network.edges[(i,p)]['affinity'] for p in proposals if not(p in accepted)]\n",
    "            if len(affinities)>1:\n",
    "                max_affinity = np.max(affinities)\n",
    "                force = network.edges[(i,j)]['affinity']-sensitivity*max_affinity\n",
    "            else:\n",
    "                force = 0\n",
    "            \n",
    "            #based on what their affinities to the accepted proposals\n",
    "            network.nodes[i]['sentiment'] = get_sentimental(network.nodes[i]['sentiment'], force, False)\n",
    "            \n",
    "    \n",
    "    key = 'network'\n",
    "    value = network\n",
    "    \n",
    "    return (key, value)\n",
    "\n",
    "def update_sentiment_on_release(params, step, sL, s, _input):\n",
    "    \n",
    "    network = s['network']\n",
    "    proposals = get_nodes_by_type(network, 'proposal')\n",
    "    accepted = _input['accepted']\n",
    "    \n",
    "    proposals_outstanding = np.sum([network.nodes[j]['funds_requested'] for j in proposals if network.nodes[j]['status']=='candidate'])\n",
    "    \n",
    "    proposals_accepted = np.sum([network.nodes[j]['funds_requested'] for j in accepted])\n",
    "    \n",
    "    sentiment = s['sentiment']\n",
    "    force = proposals_accepted/proposals_outstanding\n",
    "    if (force >=0) and (force <=1):\n",
    "        sentiment = get_sentimental(sentiment, force, False)\n",
    "    else:\n",
    "        sentiment = get_sentimental(sentiment, 0, False)\n",
    "    \n",
    "    key = 'sentiment'\n",
    "    value = sentiment\n",
    "    \n",
    "    return (key, value)"
   ]
  },
  {
   "cell_type": "code",
   "execution_count": 17,
   "metadata": {},
   "outputs": [],
   "source": [
    "def participants_decisions(params, step, sL, s):\n",
    "    \n",
    "    network = s['network']\n",
    "    participants = get_nodes_by_type(network, 'participant')\n",
    "    proposals = get_nodes_by_type(network, 'proposal')\n",
    "    candidates = [j for j in proposals if network.nodes[j]['status']=='candidate']\n",
    "    \n",
    "    gain = .01\n",
    "    delta_holdings={}\n",
    "    proposals_supported ={}\n",
    "    for i in participants:\n",
    "        force = network.nodes[i]['sentiment']-sensitivity\n",
    "        delta_holdings[i] = network.nodes[i]['holdings']*gain*force\n",
    "        \n",
    "        support = []\n",
    "        for j in candidates:\n",
    "            affinity = network.edges[(i, j)]['affinity']\n",
    "            cutoff = sensitivity*np.max([network.edges[(i,p)]['affinity'] for p in candidates])\n",
    "            if affinity > cutoff:\n",
    "                support.append(j)\n",
    "        \n",
    "        proposals_supported[i] = support\n",
    "    \n",
    "    return({'delta_holdings':delta_holdings, 'proposals_supported':proposals_supported})\n",
    "\n",
    "def update_tokens(params, step, sL, s, _input):\n",
    "    \n",
    "    network = s['network']\n",
    "    delta_holdings = _input['delta_holdings']\n",
    "    proposals = get_nodes_by_type(network, 'proposal')\n",
    "    proposals_supported = _input['proposals_supported']\n",
    "    participants = get_nodes_by_type(network, 'participant')\n",
    "    \n",
    "    for i in participants:\n",
    "        network.nodes[i]['holdings'] = network.nodes[i]['holdings']+delta_holdings[i]\n",
    "        supported = proposals_supported[i]\n",
    "        total_affinity = np.sum([ network.edges[(i, j)]['affinity'] for j in supported])\n",
    "        for j in proposals:\n",
    "            if j in supported:\n",
    "                normalized_affinity = network.edges[(i, j)]['affinity']/total_affinity\n",
    "                network.edges[(i, j)]['tokens'] = normalized_affinity*network.nodes[i]['holdings']\n",
    "            else:\n",
    "                network.edges[(i, j)]['tokens'] = 0\n",
    "            \n",
    "            prior_conviction = network.edges[(i, j)]['conviction']\n",
    "            current_tokens = network.edges[(i, j)]['tokens']\n",
    "            network.edges[(i, j)]['conviction'] =current_tokens+alpha*prior_conviction\n",
    "    \n",
    "    for j in proposals:\n",
    "        network.nodes[j]['conviction'] = np.sum([ network.edges[(i, j)]['conviction'] for i in participants])\n",
    "    \n",
    "    key = 'network'\n",
    "    value = network\n",
    "    \n",
    "    return (key, value)\n",
    "\n",
    "def update_supply(params, step, sL, s, _input):\n",
    "    \n",
    "    supply = s['supply']\n",
    "    delta_holdings = _input['delta_holdings']\n",
    "    delta_supply = np.sum([v for v in delta_holdings.values()])\n",
    "    \n",
    "    supply = supply + delta_supply\n",
    "    \n",
    "    key = 'supply'\n",
    "    value = supply\n",
    "    \n",
    "    return (key, value)"
   ]
  },
  {
   "cell_type": "code",
   "execution_count": 18,
   "metadata": {},
   "outputs": [],
   "source": [
    "# # # # # # # # # # # # # # # # # # # # # # # # # # # # # # # # # # # # # # # # # # # # # # # # \n",
    "# The Partial State Update Blocks\n",
    "partial_state_update_blocks = [\n",
    "    { \n",
    "        'policies': { \n",
    "            #new proposals or new participants\n",
    "            'random': driving_process\n",
    "        },\n",
    "        'variables': {\n",
    "            'network': update_network,\n",
    "            'funds':increment_funds,\n",
    "            'supply':increment_supply\n",
    "        }\n",
    "    },\n",
    "    {\n",
    "      'policies': {\n",
    "          'completion': check_progress #see if any of the funded proposals completes\n",
    "        },\n",
    "        'variables': { # The following state variables will be updated simultaneously\n",
    "            'sentiment': update_sentiment_on_completion, #note completing decays sentiment, completing bumps it\n",
    "            'network': complete_proposal #book-keeping\n",
    "        }\n",
    "    },\n",
    "        {\n",
    "      'policies': {\n",
    "          'release': trigger_function #check each proposal to see if it passes\n",
    "        },\n",
    "        'variables': { # The following state variables will be updated simultaneously\n",
    "            'funds': decrement_funds, #funds expended\n",
    "            'sentiment': update_sentiment_on_release, #releasing funds can bump sentiment\n",
    "            'network': update_proposals #reset convictions, and participants sentiments\n",
    "                                        #update based on affinities\n",
    "        }\n",
    "    },\n",
    "    { \n",
    "        'policies': { \n",
    "            'participants_act': participants_decisions, #high sentiment, high affinity =>buy\n",
    "                                                        #low sentiment, low affinities => burn\n",
    "                                                        #assign tokens to top affinities\n",
    "        },\n",
    "        'variables': {\n",
    "            'supply': update_supply,\n",
    "            'network': update_tokens #update everyones holdings \n",
    "                                    #and their conviction for each proposal\n",
    "        }\n",
    "    }\n",
    "]"
   ]
  },
  {
   "cell_type": "code",
   "execution_count": 19,
   "metadata": {},
   "outputs": [],
   "source": [
    "# # # # # # # # # # # # # # # # # # # # # # # # # # # # # # # # # # # # # # # # # # # # # # # # \n",
    "# The configurations above are then packaged into a `Configuration` object\n",
    "config = Configuration(initial_state=initial_conditions, #dict containing variable names and initial values\n",
    "                       partial_state_update_blocks=partial_state_update_blocks, #dict containing state update functions\n",
    "                       sim_config=simulation_parameters #dict containing simulation parameters\n",
    "                      )"
   ]
  },
  {
   "cell_type": "code",
   "execution_count": 20,
   "metadata": {
    "scrolled": true
   },
   "outputs": [
    {
     "name": "stdout",
     "output_type": "stream",
     "text": [
      "single_proc: [<cadCAD.configuration.Configuration object at 0x1a1f48e1d0>]\n"
     ]
    },
    {
     "name": "stderr",
     "output_type": "stream",
     "text": [
      "/anaconda3/lib/python3.6/site-packages/ipykernel_launcher.py:47: RuntimeWarning: invalid value encountered in double_scalars\n",
      "/anaconda3/lib/python3.6/site-packages/ipykernel_launcher.py:47: RuntimeWarning: divide by zero encountered in double_scalars\n",
      "/anaconda3/lib/python3.6/site-packages/ipykernel_launcher.py:93: RuntimeWarning: divide by zero encountered in double_scalars\n",
      "/anaconda3/lib/python3.6/site-packages/ipykernel_launcher.py:80: RuntimeWarning: divide by zero encountered in double_scalars\n"
     ]
    }
   ],
   "source": [
    "exec_mode = ExecutionMode()\n",
    "exec_context = ExecutionContext(exec_mode.single_proc)\n",
    "executor = Executor(exec_context, [config]) # Pass the configuration object inside an array\n",
    "raw_result, tensor = executor.main() # The `main()` method returns a tuple; its first elements contains the raw results"
   ]
  },
  {
   "cell_type": "code",
   "execution_count": 21,
   "metadata": {},
   "outputs": [],
   "source": [
    "df = pd.DataFrame(raw_result)"
   ]
  },
  {
   "cell_type": "code",
   "execution_count": 22,
   "metadata": {},
   "outputs": [
    {
     "data": {
      "text/html": [
       "<div>\n",
       "<style scoped>\n",
       "    .dataframe tbody tr th:only-of-type {\n",
       "        vertical-align: middle;\n",
       "    }\n",
       "\n",
       "    .dataframe tbody tr th {\n",
       "        vertical-align: top;\n",
       "    }\n",
       "\n",
       "    .dataframe thead th {\n",
       "        text-align: right;\n",
       "    }\n",
       "</style>\n",
       "<table border=\"1\" class=\"dataframe\">\n",
       "  <thead>\n",
       "    <tr style=\"text-align: right;\">\n",
       "      <th></th>\n",
       "      <th>funds</th>\n",
       "      <th>network</th>\n",
       "      <th>run</th>\n",
       "      <th>sentiment</th>\n",
       "      <th>substep</th>\n",
       "      <th>supply</th>\n",
       "      <th>timestep</th>\n",
       "    </tr>\n",
       "  </thead>\n",
       "  <tbody>\n",
       "    <tr>\n",
       "      <th>796</th>\n",
       "      <td>275205.632845</td>\n",
       "      <td>(0, 1, 2, 3, 4, 5, 6, 7, 8, 9, 10, 11, 12, 13,...</td>\n",
       "      <td>1</td>\n",
       "      <td>0.999000</td>\n",
       "      <td>4</td>\n",
       "      <td>77794.439364</td>\n",
       "      <td>199</td>\n",
       "    </tr>\n",
       "    <tr>\n",
       "      <th>797</th>\n",
       "      <td>279051.211671</td>\n",
       "      <td>(0, 1, 2, 3, 4, 5, 6, 7, 8, 9, 10, 11, 12, 13,...</td>\n",
       "      <td>1</td>\n",
       "      <td>0.999000</td>\n",
       "      <td>1</td>\n",
       "      <td>77794.439364</td>\n",
       "      <td>200</td>\n",
       "    </tr>\n",
       "    <tr>\n",
       "      <th>798</th>\n",
       "      <td>279051.211671</td>\n",
       "      <td>(0, 1, 2, 3, 4, 5, 6, 7, 8, 9, 10, 11, 12, 13,...</td>\n",
       "      <td>1</td>\n",
       "      <td>0.998001</td>\n",
       "      <td>2</td>\n",
       "      <td>77794.439364</td>\n",
       "      <td>200</td>\n",
       "    </tr>\n",
       "    <tr>\n",
       "      <th>799</th>\n",
       "      <td>279051.211671</td>\n",
       "      <td>(0, 1, 2, 3, 4, 5, 6, 7, 8, 9, 10, 11, 12, 13,...</td>\n",
       "      <td>1</td>\n",
       "      <td>0.998001</td>\n",
       "      <td>3</td>\n",
       "      <td>77794.439364</td>\n",
       "      <td>200</td>\n",
       "    </tr>\n",
       "    <tr>\n",
       "      <th>800</th>\n",
       "      <td>279051.211671</td>\n",
       "      <td>(0, 1, 2, 3, 4, 5, 6, 7, 8, 9, 10, 11, 12, 13,...</td>\n",
       "      <td>1</td>\n",
       "      <td>0.998001</td>\n",
       "      <td>4</td>\n",
       "      <td>77173.221287</td>\n",
       "      <td>200</td>\n",
       "    </tr>\n",
       "  </tbody>\n",
       "</table>\n",
       "</div>"
      ],
      "text/plain": [
       "             funds                                            network  run  \\\n",
       "796  275205.632845  (0, 1, 2, 3, 4, 5, 6, 7, 8, 9, 10, 11, 12, 13,...    1   \n",
       "797  279051.211671  (0, 1, 2, 3, 4, 5, 6, 7, 8, 9, 10, 11, 12, 13,...    1   \n",
       "798  279051.211671  (0, 1, 2, 3, 4, 5, 6, 7, 8, 9, 10, 11, 12, 13,...    1   \n",
       "799  279051.211671  (0, 1, 2, 3, 4, 5, 6, 7, 8, 9, 10, 11, 12, 13,...    1   \n",
       "800  279051.211671  (0, 1, 2, 3, 4, 5, 6, 7, 8, 9, 10, 11, 12, 13,...    1   \n",
       "\n",
       "     sentiment  substep        supply  timestep  \n",
       "796   0.999000        4  77794.439364       199  \n",
       "797   0.999000        1  77794.439364       200  \n",
       "798   0.998001        2  77794.439364       200  \n",
       "799   0.998001        3  77794.439364       200  \n",
       "800   0.998001        4  77173.221287       200  "
      ]
     },
     "execution_count": 22,
     "metadata": {},
     "output_type": "execute_result"
    }
   ],
   "source": [
    "df.tail()"
   ]
  },
  {
   "cell_type": "code",
   "execution_count": 23,
   "metadata": {},
   "outputs": [
    {
     "data": {
      "text/plain": [
       "<matplotlib.axes._subplots.AxesSubplot at 0x1a227be2e8>"
      ]
     },
     "execution_count": 23,
     "metadata": {},
     "output_type": "execute_result"
    },
    {
     "data": {
      "image/png": "[encoded data removed]",
      "text/plain": [
       "<Figure size 432x288 with 1 Axes>"
      ]
     },
     "metadata": {
      "needs_background": "light"
     },
     "output_type": "display_data"
    }
   ],
   "source": [
    "df.supply.plot()"
   ]
  },
  {
   "cell_type": "code",
   "execution_count": 24,
   "metadata": {},
   "outputs": [
    {
     "data": {
      "text/plain": [
       "<matplotlib.axes._subplots.AxesSubplot at 0x1a356e1c18>"
      ]
     },
     "execution_count": 24,
     "metadata": {},
     "output_type": "execute_result"
    },
    {
     "data": {
      "image/png": "[encoded data removed]",
      "text/plain": [
       "<Figure size 432x288 with 1 Axes>"
      ]
     },
     "metadata": {
      "needs_background": "light"
     },
     "output_type": "display_data"
    }
   ],
   "source": [
    "df.sentiment.plot()"
   ]
  },
  {
   "cell_type": "code",
   "execution_count": 25,
   "metadata": {},
   "outputs": [
    {
     "data": {
      "text/plain": [
       "<matplotlib.axes._subplots.AxesSubplot at 0x1a35398198>"
      ]
     },
     "execution_count": 25,
     "metadata": {},
     "output_type": "execute_result"
    },
    {
     "data": {
      "image/png": "[encoded data removed]",
      "text/plain": [
       "<Figure size 432x288 with 1 Axes>"
      ]
     },
     "metadata": {
      "needs_background": "light"
     },
     "output_type": "display_data"
    }
   ],
   "source": [
    "df.plot(x='timestep', y='funds')"
   ]
  },
  {
   "cell_type": "code",
   "execution_count": 26,
   "metadata": {},
   "outputs": [],
   "source": [
    "def pad(vec, length,fill=True):\n",
    "    \n",
    "    if fill:\n",
    "        padded = np.zeros(length,)\n",
    "    else:\n",
    "        padded = np.empty(length,)\n",
    "        padded[:] = np.nan\n",
    "        \n",
    "    for i in range(len(vec)):\n",
    "        padded[i]= vec[i]\n",
    "        \n",
    "    return padded\n",
    "\n",
    "def make2D(key, data, fill=False):\n",
    "    maxL = data[key].apply(len).max()\n",
    "    newkey = 'padded_'+key\n",
    "    data[newkey] = data[key].apply(lambda x: pad(x,maxL,fill))\n",
    "    reshaped = np.array([a for a in data[newkey].values])\n",
    "    \n",
    "    return reshaped"
   ]
  },
  {
   "cell_type": "code",
   "execution_count": 43,
   "metadata": {},
   "outputs": [],
   "source": [
    "df['conviction'] = df.network.apply(lambda g: [g.nodes[j]['conviction'] for j in get_nodes_by_type(g, 'proposal') ])\n",
    "df['candidate_count'] = df.network.apply(lambda g: len([j for j in get_nodes_by_type(g, 'proposal') if g.nodes[j]['status']=='candidate']))\n",
    "df['candidate_funds'] = df.network.apply(lambda g: np.sum([g.nodes[j]['funds_requested'] for j in get_nodes_by_type(g, 'proposal') if g.nodes[j]['status']=='candidate']))\n",
    "df['active_count'] = df.network.apply(lambda g: len([j for j in get_nodes_by_type(g, 'proposal') if g.nodes[j]['status']=='active']))\n",
    "df['active_funds'] = df.network.apply(lambda g: np.sum([g.nodes[j]['funds_requested'] for j in get_nodes_by_type(g, 'proposal') if g.nodes[j]['status']=='active']))\n",
    "df['completed_count'] = df.network.apply(lambda g: len([j for j in get_nodes_by_type(g, 'proposal') if g.nodes[j]['status']=='completed']))\n",
    "df['completed_funds'] = df.network.apply(lambda g: np.sum([g.nodes[j]['funds_requested'] for j in get_nodes_by_type(g, 'proposal') if g.nodes[j]['status']=='completed']))"
   ]
  },
  {
   "cell_type": "code",
   "execution_count": 52,
   "metadata": {},
   "outputs": [],
   "source": [
    "df['funds_requested'] = df.network.apply(lambda g: np.array([g.nodes[j]['funds_requested'] for j in get_nodes_by_type(g, 'proposal')]))\n",
    "df['share_of_funds_requested'] = df['funds_requested']/df.funds"
   ]
  },
  {
   "cell_type": "code",
   "execution_count": 44,
   "metadata": {},
   "outputs": [
    {
     "data": {
      "text/plain": [
       "<matplotlib.axes._subplots.AxesSubplot at 0x1a35a82438>"
      ]
     },
     "execution_count": 44,
     "metadata": {},
     "output_type": "execute_result"
    },
    {
     "data": {
      "image/png": "[encoded data removed]",
      "text/plain": [
       "<Figure size 432x288 with 1 Axes>"
      ]
     },
     "metadata": {
      "needs_background": "light"
     },
     "output_type": "display_data"
    }
   ],
   "source": [
    "df.plot(x='timestep',y=['candidate_count','active_count','completed_count'])"
   ]
  },
  {
   "cell_type": "code",
   "execution_count": 45,
   "metadata": {},
   "outputs": [
    {
     "data": {
      "text/plain": [
       "<matplotlib.axes._subplots.AxesSubplot at 0x1a36188da0>"
      ]
     },
     "execution_count": 45,
     "metadata": {},
     "output_type": "execute_result"
    },
    {
     "data": {
      "image/png": "[encoded data removed]",
      "text/plain": [
       "<Figure size 432x288 with 1 Axes>"
      ]
     },
     "metadata": {
      "needs_background": "light"
     },
     "output_type": "display_data"
    }
   ],
   "source": [
    "df.plot(x='timestep',y=['candidate_funds','active_funds','completed_funds'])"
   ]
  },
  {
   "cell_type": "code",
   "execution_count": 48,
   "metadata": {},
   "outputs": [
    {
     "data": {
      "text/plain": [
       "Text(0, 0.5, 'conviction')"
      ]
     },
     "execution_count": 48,
     "metadata": {},
     "output_type": "execute_result"
    },
    {
     "data": {
      "image/png": "[encoded data removed]",
      "text/plain": [
       "<Figure size 432x288 with 1 Axes>"
      ]
     },
     "metadata": {
      "needs_background": "light"
     },
     "output_type": "display_data"
    }
   ],
   "source": [
    "plt.plot(df.timestep,make2D('conviction', df))\n",
    "plt.title('conviction by proposal')\n",
    "plt.xlabel('time $t$')\n",
    "plt.ylabel('conviction')"
   ]
  },
  {
   "cell_type": "code",
   "execution_count": 53,
   "metadata": {},
   "outputs": [
    {
     "data": {
      "text/plain": [
       "Text(0, 0.5, 'share_of_funds_requested')"
      ]
     },
     "execution_count": 53,
     "metadata": {},
     "output_type": "execute_result"
    },
    {
     "data": {
      "image/png": "[encoded data removed]",
      "text/plain": [
       "<Figure size 432x288 with 1 Axes>"
      ]
     },
     "metadata": {
      "needs_background": "light"
     },
     "output_type": "display_data"
    }
   ],
   "source": [
    "plt.plot(df.timestep,make2D('share_of_funds_requested', df))\n",
    "plt.title('share_of_funds_requested by proposal')\n",
    "plt.xlabel('time $t$')\n",
    "plt.ylabel('share_of_funds_requested')"
   ]
  },
  {
   "cell_type": "code",
   "execution_count": 61,
   "metadata": {},
   "outputs": [
    {
     "data": {
      "text/plain": [
       "Text(0.5, 0, 'share_of_funds_requested')"
      ]
     },
     "execution_count": 61,
     "metadata": {},
     "output_type": "execute_result"
    },
    {
     "data": {
      "image/png": "[encoded data removed]",
      "text/plain": [
       "<Figure size 432x288 with 1 Axes>"
      ]
     },
     "metadata": {
      "needs_background": "light"
     },
     "output_type": "display_data"
    }
   ],
   "source": [
    "plt.loglog(make2D('share_of_funds_requested', df), make2D('conviction', df),alpha=.5)\n",
    "plt.ylabel('conviction')\n",
    "plt.xlabel('share_of_funds_requested')"
   ]
  },
  {
   "cell_type": "code",
   "execution_count": 36,
   "metadata": {},
   "outputs": [],
   "source": [
    "last_net= rdf.network.values[-1]"
   ]
  },
  {
   "cell_type": "code",
   "execution_count": 96,
   "metadata": {},
   "outputs": [
    {
     "name": "stdout",
     "output_type": "stream",
     "text": [
      "completed\n",
      "completed\n",
      "completed\n",
      "completed\n",
      "completed\n",
      "completed\n",
      "completed\n",
      "completed\n",
      "completed\n",
      "completed\n",
      "completed\n",
      "completed\n",
      "completed\n",
      "completed\n",
      "completed\n",
      "completed\n",
      "completed\n",
      "completed\n",
      "completed\n",
      "completed\n",
      "active\n",
      "active\n",
      "active\n",
      "active\n",
      "candidate\n"
     ]
    }
   ],
   "source": [
    "last_props=get_nodes_by_type(last_net, 'proposal')\n",
    "\n",
    "for j in last_props:\n",
    "    print(last_net.nodes[j]['status'])"
   ]
  },
  {
   "cell_type": "code",
   "execution_count": 86,
   "metadata": {},
   "outputs": [],
   "source": [
    "last_participants = get_nodes_by_type(last_net, 'participant')\n",
    "\n",
    "pos = {}\n",
    "last_n = len(last_participants)\n",
    "for ind in range(last_n):\n",
    "    i = last_participants[ind] \n",
    "    pos[i] = np.array([0, ind-last_n/2])\n",
    "\n",
    "last_m = len(last_props) \n",
    "for ind in range(last_m):\n",
    "    j = last_props[ind] \n",
    "    pos[j] = np.array([1, last_n/last_m *ind-last_n/2])\n"
   ]
  },
  {
   "cell_type": "code",
   "execution_count": 87,
   "metadata": {},
   "outputs": [
    {
     "data": {
      "image/png": "[encoded data removed]",
      "text/plain": [
       "<Figure size 432x288 with 1 Axes>"
      ]
     },
     "metadata": {},
     "output_type": "display_data"
    }
   ],
   "source": [
    "nx.draw(last_net, pos)"
   ]
  },
  {
   "cell_type": "code",
   "execution_count": 91,
   "metadata": {},
   "outputs": [],
   "source": [
    "df['node_count']=df.network.apply(lambda g:len(g.nodes))\n",
    "df['net_growth']= df.node_count.diff()\n",
    "nets = df[df.net_growth>0].network.values"
   ]
  },
  {
   "cell_type": "raw",
   "metadata": {
    "scrolled": false
   },
   "source": [
    "for i in range(len(nets)-1):\n",
    "    nx.draw(nets[i],pos=pos, alpha=.5, node_color='b')\n",
    "    nx.draw(nets[i+1],pos=pos,  alpha=.5, node_color='g')\n",
    "    plt.title(\"Update: $G_{\"+str(i)+\"}$ to $G_{\"+str(i+1)+\"}$\")\n",
    "    plt.show()"
   ]
  },
  {
   "cell_type": "code",
   "execution_count": null,
   "metadata": {},
   "outputs": [],
   "source": []
  }
 ],
 "metadata": {
  "kernelspec": {
   "display_name": "Python 3",
   "language": "python",
   "name": "python3"
  },
  "language_info": {
   "codemirror_mode": {
    "name": "ipython",
    "version": 3
   },
   "file_extension": ".py",
   "mimetype": "text/x-python",
   "name": "python",
   "nbconvert_exporter": "python",
   "pygments_lexer": "ipython3",
   "version": "3.6.8"
  }
 },
 "nbformat": 4,
 "nbformat_minor": 2
}
