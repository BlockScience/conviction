{
 "cells": [
  {
   "cell_type": "code",
   "execution_count": 1,
   "metadata": {},
   "outputs": [],
   "source": [
    "from cadCAD.engine import ExecutionMode, ExecutionContext, Executor\n",
    "from cadCAD.configuration import Configuration\n",
    "import networkx as nx\n",
    "import matplotlib.pyplot as plt\n",
    "import numpy as np\n",
    "import scipy.stats as sts\n",
    "import pandas as pd\n",
    "%matplotlib inline\n",
    "\n",
    "from scipy.stats import expon\n"
   ]
  },
  {
   "cell_type": "markdown",
   "metadata": {},
   "source": [
    "This notebook uses the differential games framework developed by BlockScience. It is currently in private beta, and building towards a full open source release.\n",
    "\n",
    "**Description:**\n",
    "\n",
    "cadCAD is a Python library that assists in the processes of designing, testing and validating complex systems through simulation. At its core, cadCAD is a differential games engine that supports parameter sweeping and Monte Carlo analyses and can be easily integrated with other scientific computing Python modules and data science workflows.\n",
    "\n",
    "To learn more about cadCAD, follow our [tutorial series](https://github.com/BlockScience/cadCAD-Tutorials/tree/master/01%20Tutorials)\n",
    "\n",
    "**Installing cadCAD:**\n",
    "\n",
    "cadCAD is in private beta. Tokens are issued to participants. Replace `<TOKEN>` in the installation URL below\n",
    "```bash\n",
    "pip3 install cadCAD --extra-index-url https://<TOKEN>@repo.fury.io/blockscience/\n",
    "```\n",
    "\n",
    "If you'd like to participate in the beta program, contact cadcad [at] block [dot] science.\n"
   ]
  },
  {
   "cell_type": "code",
   "execution_count": 20,
   "metadata": {},
   "outputs": [],
   "source": [
    "#helper functions\n",
    "def get_nodes_by_type(g, node_type_selection):\n",
    "    return [node for node in g.nodes if g.nodes[node]['type']== node_type_selection ]\n",
    "\n",
    "def get_edges_by_type(g, edge_type_selection):\n",
    "    return [edge for edge in g.edges if g.edges[edge]['type']== edge_type_selection ]\n"
   ]
  },
  {
   "cell_type": "code",
   "execution_count": 19,
   "metadata": {},
   "outputs": [
    {
     "name": "stdout",
     "output_type": "stream",
     "text": [
      "92089.22219636562\n"
     ]
    }
   ],
   "source": [
    "#generate an initial set of 'n' participants\n",
    "network = nx.DiGraph()\n",
    "n = 100\n",
    "for i in range(n):\n",
    "    network.add_node(i)\n",
    "    network.nodes[i]['type']=\"participant\"\n",
    "    \n",
    "    h_rv = expon.rvs(loc=0.001, scale=1000)\n",
    "    network.nodes[i]['holdings'] = h_rv\n",
    "    \n",
    "    s_rv = np.random.rand() \n",
    "    network.nodes[i]['sentiment'] = s_rv\n",
    "\n",
    "participants = get_nodes_by_type(network, 'participant')\n",
    "initial_supply = np.sum([ network.nodes[i]['holdings'] for i in participants])\n",
    "print(initial_supply)\n",
    "\n",
    "initial_funds = initial_supply\n"
   ]
  },
  {
   "cell_type": "code",
   "execution_count": 21,
   "metadata": {},
   "outputs": [
    {
     "name": "stdout",
     "output_type": "stream",
     "text": [
      "1.7484479178693189\n"
     ]
    }
   ],
   "source": [
    "#generate initial proposals\n",
    "m = 12\n",
    "for j in range(m):\n",
    "    ind = n+j\n",
    "    network.add_node(ind)\n",
    "    network.nodes[ind]['type']=\"proposal\"\n",
    "    network.nodes[ind]['conviction']=0\n",
    "    network.nodes[ind]['status']='candidate'\n",
    "    network.nodes[ind]['age']=0\n",
    "    \n",
    "    r_rv = expon.rvs(loc=0.001, scale=10000)\n",
    "    network.node[ind]['funds_requested'] = r_rv\n",
    "    \n",
    "    for i in range(n):\n",
    "        network.add_edge(i, ind)\n",
    "        \n",
    "        a_rv = np.random.rand() \n",
    "        network.edges[(i, ind)]['affinity'] = a_rv\n",
    "        network.edges[(i,ind)]['tokens'] = a_rv*network.nodes[i]['holdings']\n",
    "        network.edges[(i, ind)]['conviction'] = 0\n",
    "\n",
    "proposals = get_nodes_by_type(network, 'proposal')\n",
    "total_requested = np.sum([ network.nodes[i]['funds_requested'] for i in proposals])\n",
    "print(total_requested/initial_funds)"
   ]
  },
  {
   "cell_type": "code",
   "execution_count": 22,
   "metadata": {},
   "outputs": [
    {
     "data": {
      "text/plain": [
       "{'type': 'proposal',\n",
       " 'conviction': 0,\n",
       " 'status': 'candidate',\n",
       " 'funds_requested': 10417.252006928056}"
      ]
     },
     "execution_count": 22,
     "metadata": {},
     "output_type": "execute_result"
    }
   ],
   "source": [
    "network.nodes[get_nodes_by_type(network, 'proposal')[0]]"
   ]
  },
  {
   "cell_type": "code",
   "execution_count": 23,
   "metadata": {},
   "outputs": [
    {
     "data": {
      "text/plain": [
       "{'type': 'participant',\n",
       " 'holdings': 1307.1683720857025,\n",
       " 'sentiment': 0.008125570765641466}"
      ]
     },
     "execution_count": 23,
     "metadata": {},
     "output_type": "execute_result"
    }
   ],
   "source": [
    "network.nodes[get_nodes_by_type(network, 'participant')[0]]"
   ]
  },
  {
   "cell_type": "code",
   "execution_count": 31,
   "metadata": {},
   "outputs": [
    {
     "data": {
      "text/plain": [
       "Text(0.5, 1.0, 'Histogram of Participants Token Holdings')"
      ]
     },
     "execution_count": 31,
     "metadata": {},
     "output_type": "execute_result"
    },
    {
     "data": {
      "image/png": "[encoded data removed]",
      "text/plain": [
       "<Figure size 432x288 with 1 Axes>"
      ]
     },
     "metadata": {
      "needs_background": "light"
     },
     "output_type": "display_data"
    }
   ],
   "source": [
    "plt.hist([ network.nodes[i]['holdings'] for i in participants])\n",
    "plt.title('Histogram of Participants Token Holdings')"
   ]
  },
  {
   "cell_type": "code",
   "execution_count": 33,
   "metadata": {},
   "outputs": [
    {
     "data": {
      "text/plain": [
       "Text(0.5, 1.0, 'Histogram of Proposals Funds Requested')"
      ]
     },
     "execution_count": 33,
     "metadata": {},
     "output_type": "execute_result"
    },
    {
     "data": {
      "image/png": "[encoded data removed]",
      "text/plain": [
       "<Figure size 432x288 with 1 Axes>"
      ]
     },
     "metadata": {
      "needs_background": "light"
     },
     "output_type": "display_data"
    }
   ],
   "source": [
    "plt.hist([ network.nodes[i]['funds_requested'] for i in proposals])\n",
    "plt.title('Histogram of Proposals Funds Requested')"
   ]
  },
  {
   "cell_type": "code",
   "execution_count": 34,
   "metadata": {},
   "outputs": [
    {
     "data": {
      "text/plain": [
       "Text(0.5, 1.0, 'Histogram of Affinities between Participants and Proposals')"
      ]
     },
     "execution_count": 34,
     "metadata": {},
     "output_type": "execute_result"
    },
    {
     "data": {
      "image/png": "[encoded data removed]",
      "text/plain": [
       "<Figure size 432x288 with 1 Axes>"
      ]
     },
     "metadata": {
      "needs_background": "light"
     },
     "output_type": "display_data"
    }
   ],
   "source": [
    "plt.hist([ network.edges[e]['affinity'] for e in network.edges])\n",
    "plt.title('Histogram of Affinities between Participants and Proposals')"
   ]
  },
  {
   "cell_type": "code",
   "execution_count": 42,
   "metadata": {},
   "outputs": [
    {
     "data": {
      "text/plain": [
       "Text(0.5, 1.0, 'Histogram of Affinities between Participants and Proposals weighted by holdings')"
      ]
     },
     "execution_count": 42,
     "metadata": {},
     "output_type": "execute_result"
    },
    {
     "data": {
      "image/png": "[encoded data removed]",
      "text/plain": [
       "<Figure size 432x288 with 1 Axes>"
      ]
     },
     "metadata": {
      "needs_background": "light"
     },
     "output_type": "display_data"
    }
   ],
   "source": [
    "plt.hist([ network.edges[e]['affinity'] for e in network.edges], weights = [network.nodes[e[0]]['holdings']for e in network.edges],alpha = 1)\n",
    "plt.title('Histogram of Affinities between Participants and Proposals weighted by holdings')"
   ]
  },
  {
   "cell_type": "code",
   "execution_count": 44,
   "metadata": {},
   "outputs": [],
   "source": [
    "T = 50 #iterations of graph update in our simulation\n",
    "#param for conviction accumilation\n",
    "alpha = .01 #later we should set this to be param so we can sweep it\n",
    "\n",
    "#sentiment of the outside world which drives grants\n",
    "initial_sentiment = .5\n",
    "\n",
    "#sentiment decay rate\n",
    "gamma =.001 #later we should set this to be param so we can sweep it\n",
    "\n",
    "#maximum share of funds a proposal can take\n",
    "beta = .2 #later we should set this to be param so we can sweep it\n",
    "# tuning param for the trigger function\n",
    "rho = 1\n",
    "\n",
    "#minimum periods passed before a proposal can pass\n",
    "tmin = 7\n"
   ]
  },
  {
   "cell_type": "code",
   "execution_count": 45,
   "metadata": {},
   "outputs": [],
   "source": [
    "# # # # # # # # # # # # # # # # # # # # # # # # # # # # # # # # # # # # # # # # # # # # # # # # \n",
    "# Settings of general simulation parameters, unrelated to the system itself\n",
    "# `T` is a range with the number of discrete units of time the simulation will run for;\n",
    "# `N` is the number of times the simulation will be run (Monte Carlo runs)\n",
    "# We'll cover the `M` key in a future article. For now, let's leave it empty\n",
    "simulation_parameters = {\n",
    "    'T': range(T),\n",
    "    'N': 1,\n",
    "    'M': {}\n",
    "}"
   ]
  },
  {
   "cell_type": "code",
   "execution_count": 46,
   "metadata": {},
   "outputs": [],
   "source": [
    "initial_conditions = {'network':network,\n",
    "                      'supply': initial_supply,\n",
    "                      'funds':initial_funds,\n",
    "                      'sentiment': initial_sentiment}"
   ]
  },
  {
   "cell_type": "code",
   "execution_count": null,
   "metadata": {},
   "outputs": [],
   "source": [
    "#functions for partial state update block 1\n",
    "\n",
    "def driving_process(params, step, sL, s):\n",
    "    \n",
    "    #placeholder plumbing for random process\n",
    "    \n",
    "    return({'new_participant':False, 'new_proposal':False})\n",
    "\n",
    "def update_network(params, step, sL, s, _input):\n",
    "    \n",
    "    network = s['network']\n",
    "    #placeholder plumbing for new proposals and new participants\n",
    "    new_participant = _input['new_participant'] #T/F\n",
    "    new_proposal = _input['new_proposal'] #T/F\n",
    "    # IF THEN logic to create new nodes // left out for now since always FALSE\n",
    "    \n",
    "    #update age of the existing proposals\n",
    "    proposals = get_nodes_by_type(network, 'proposal')\n",
    "    for j in proposals:\n",
    "         network.nodes[j]['age']=  network.nodes[j]['age']+1\n",
    "    \n",
    "    key = 'network'\n",
    "    value = network\n",
    "    \n",
    "    return (key, value)"
   ]
  },
  {
   "cell_type": "code",
   "execution_count": null,
   "metadata": {},
   "outputs": [],
   "source": [
    "#partial state update block 2\n",
    "def check_process(params, step, sL, s):\n",
    "    \n",
    "    network = s['network']\n",
    "    proposals = get_nodes_by_type(network, 'proposal')\n",
    "    \n",
    "    completed = []\n",
    "    for j in proposals:\n",
    "        if network.nodes[j]['status'] == 'active':\n",
    "            grant_size = network.nodes[j]['funds_requested']\n",
    "            likelihood = 1.0/np.log(grant_size)\n",
    "            if np.random.rand() < likelihood:\n",
    "                completed.append(j)\n",
    "    \n",
    "    return({'completed':completed})\n",
    "\n",
    "def complete_proposal(params, step, sL, s, _input):\n",
    "    \n",
    "    network = s['network']\n",
    "    participants = get_nodes_by_type(network, 'participant')\n",
    "    \n",
    "    completed = _input['completed']\n",
    "    for j in completed:\n",
    "        network.nodes[j]['status']='completed'\n",
    "        for i in participants:\n",
    "            force = network.edge[(i,j)]['affinity']\n",
    "            sentiment = network.node[i]['sentiment']\n",
    "            network.node[i]['sentiment'] = get_sentimental(sentiment, force, decay=False)\n",
    "    \n",
    "    key = 'network'\n",
    "    value = network\n",
    "    \n",
    "    return (key, value)\n",
    "\n",
    "def update_sentiment_on_completion(params, step, sL, s, _input):\n",
    "    \n",
    "    network = s['network']\n",
    "    proposals = get_nodes_by_type(network, 'proposal')\n",
    "    completed = _input['completed']\n",
    "    \n",
    "    grants_outstanding = np.sum([network.nodes[j]['funds_requested'] for j in proposals if network.nodes[j]['status']=='active'])\n",
    "    \n",
    "    grants_completed = np.sum([network.nodes[j]['funds_requested'] for j in completed])\n",
    "    \n",
    "    sentiment = s['sentiment']\n",
    "    force = grants_completed/grants_outstanding\n",
    "    sentiment = get_sentimental(sentiment, force)\n",
    "    \n",
    "    key = 'sentiment'\n",
    "    value = sentiment\n",
    "    \n",
    "    return (key, value)\n",
    "\n",
    "def get_sentimental(sentiment, force, decay=True):\n",
    "        sentiment = sentiment*(1-int(decay)*gamma) + force\n",
    "    \n",
    "    if sentiment > 1:\n",
    "        sentiment = 1\n",
    "    \n",
    "    return sentiment"
   ]
  },
  {
   "cell_type": "code",
   "execution_count": null,
   "metadata": {},
   "outputs": [],
   "source": [
    "def trigger_threshold(requested, funds, supply):\n",
    "    \n",
    "    share = request/funds\n",
    "    if share < beta:\n",
    "        return rho*supply/(beta-share)**2\n",
    "    else: \n",
    "        return np.inf\n",
    "        \n",
    "    \n",
    "\n",
    "#partial state update block 3\n",
    "def trigger_function(params, step, sL, s):\n",
    "    \n",
    "    network = s['network']\n",
    "    funds = s['funds']\n",
    "    supply = s['supply']\n",
    "    proposals = get_nodes_by_type(network, 'proposal')\n",
    "    \n",
    "    accepted = []\n",
    "    for j in proposals:\n",
    "        if network.nodes[j]['status'] == 'candidate':\n",
    "            requested = network.nodes[j]['funds_requested']\n",
    "            age = network.nodes[j]['age']\n",
    "            if age > tmin:\n",
    "                threshold = trigger_threshold(requested, funds, supply)\n",
    "                conviction = network.nodes[j]['conviction']\n",
    "                if conviction >threshold:\n",
    "                    accepted.append(j)\n",
    "            \n",
    "    return({'accepted':accepted})\n",
    "\n",
    "def update_funds(params, step, sL, s, _input):\n",
    "    \n",
    "    funds = s['funds']\n",
    "    network = s['network']\n",
    "    accepted = _input['accepted']\n",
    "\n",
    "    #decrement funds\n",
    "    for j in accepted:\n",
    "        funds = funds - network.nodes[j]['funds_requested']\n",
    "    \n",
    "    key = 'funds'\n",
    "    value = funds\n",
    "    \n",
    "    return (key, value)\n",
    "\n",
    "def update_proposals(params, step, sL, s, _input):\n",
    "    \n",
    "    network = s['network']\n",
    "    accepted = _input['accepted']\n",
    "    participants = get_nodes_by_type(network, 'participant')\n",
    "    \n",
    "    #bookkeeping conviction and participant sentiment\n",
    "    for j in accepted:\n",
    "        #change status to active\n",
    "        for i in participants:\n",
    "        \n",
    "            edge = (i,j)\n",
    "            #reset tokens assigned to other candidates\n",
    "            \n",
    "            #update participants sentiments (positive or netai)\n",
    "    \n",
    "    key = 'network'\n",
    "    value = network\n",
    "    \n",
    "    return (key, value)\n",
    "\n",
    "def update_sentiment_on_release(params, step, sL, s, _input):\n",
    "    \n",
    "    network = s['network']\n",
    "    proposals = get_nodes_by_type(network, 'proposal')\n",
    "    accepted = _input['accepted']\n",
    "    \n",
    "    proposals_outstanding = np.sum([network.nodes[j]['funds_requested'] for j in proposals if network.nodes[j]['status']=='candidate'])\n",
    "    \n",
    "    proposals_accepted = np.sum([network.nodes[j]['funds_requested'] for j in accepted])\n",
    "    \n",
    "    sentiment = s['sentiment']\n",
    "    force = proposals_accepted/proposals_outstanding\n",
    "    sentiment = get_sentimental(sentiment, force, False)\n",
    "    \n",
    "    key = 'sentiment'\n",
    "    value = sentiment\n",
    "    \n",
    "    return (key, value)"
   ]
  },
  {
   "cell_type": "code",
   "execution_count": 47,
   "metadata": {},
   "outputs": [
    {
     "ename": "NameError",
     "evalue": "name 'driving_processes' is not defined",
     "output_type": "error",
     "traceback": [
      "\u001b[0;31m---------------------------------------------------------------------------\u001b[0m",
      "\u001b[0;31mNameError\u001b[0m                                 Traceback (most recent call last)",
      "\u001b[0;32m<ipython-input-47-3e002ec54fcb>\u001b[0m in \u001b[0;36m<module>\u001b[0;34m\u001b[0m\n\u001b[1;32m      5\u001b[0m         'policies': { \n\u001b[1;32m      6\u001b[0m             \u001b[0;31m#new proposals or new participants\u001b[0m\u001b[0;34m\u001b[0m\u001b[0;34m\u001b[0m\u001b[0;34m\u001b[0m\u001b[0m\n\u001b[0;32m----> 7\u001b[0;31m             \u001b[0;34m'random'\u001b[0m\u001b[0;34m:\u001b[0m \u001b[0mdriving_processes\u001b[0m\u001b[0;34m\u001b[0m\u001b[0;34m\u001b[0m\u001b[0m\n\u001b[0m\u001b[1;32m      8\u001b[0m         },\n\u001b[1;32m      9\u001b[0m         'variables': {\n",
      "\u001b[0;31mNameError\u001b[0m: name 'driving_processes' is not defined"
     ]
    }
   ],
   "source": [
    "# # # # # # # # # # # # # # # # # # # # # # # # # # # # # # # # # # # # # # # # # # # # # # # # \n",
    "# The Partial State Update Blocks\n",
    "partial_state_update_blocks = [\n",
    "    { \n",
    "        'policies': { \n",
    "            #new proposals or new participants\n",
    "            'random': driving_processes\n",
    "        },\n",
    "        'variables': {\n",
    "            'network': update_network\n",
    "        }\n",
    "    },\n",
    "    {\n",
    "      'policies': {\n",
    "          'completion': check_progress #see if any of the funded proposals completes\n",
    "        },\n",
    "        'variables': { # The following state variables will be updated simultaneously\n",
    "            'funds': update_funds, #only get new funds when things are completed\n",
    "            'sentiment': update_sentiment_on_completion, #note completing decays sentiment, completing bumps it\n",
    "            'network': complete_proposal #book-keeping\n",
    "        }\n",
    "    },\n",
    "        {\n",
    "      'policies': {\n",
    "          'release': trigger_function #check each proposal to see if it passes\n",
    "        },\n",
    "        'variables': { # The following state variables will be updated simultaneously\n",
    "            'funds': update_funds, #funds expended\n",
    "            'sentiment': update_sentiment_on_release, #releasing funds can bump sentiment\n",
    "            'network': update_proposals #reset convictions, and participants sentiments\n",
    "                                        #update based on affinities\n",
    "        }\n",
    "    },\n",
    "    { \n",
    "        'policies': { \n",
    "            #new proposals or new participants\n",
    "            'bond': increase_holdings, #high sentiment, high affinity\n",
    "            'burn': decrease_holdings #low sentiment\n",
    "        },\n",
    "        'variables': {\n",
    "            'supply': update_supply,\n",
    "            'network': update_holdings #update everyones holdings \n",
    "                                    #and their conviction for each proposal\n",
    "        }\n",
    "    }\n",
    "]"
   ]
  },
  {
   "cell_type": "code",
   "execution_count": null,
   "metadata": {},
   "outputs": [],
   "source": [
    "# # # # # # # # # # # # # # # # # # # # # # # # # # # # # # # # # # # # # # # # # # # # # # # # \n",
    "# The configurations above are then packaged into a `Configuration` object\n",
    "config = Configuration(initial_state=initial_conditions, #dict containing variable names and initial values\n",
    "                       partial_state_update_blocks=partial_state_update_blocks, #dict containing state update functions\n",
    "                       sim_config=simulation_parameters #dict containing simulation parameters\n",
    "                      )"
   ]
  },
  {
   "cell_type": "code",
   "execution_count": null,
   "metadata": {},
   "outputs": [],
   "source": [
    "exec_mode = ExecutionMode()\n",
    "exec_context = ExecutionContext(exec_mode.single_proc)\n",
    "executor = Executor(exec_context, [config]) # Pass the configuration object inside an array\n",
    "raw_result, tensor = executor.main() # The `main()` method returns a tuple; its first elements contains the raw results"
   ]
  },
  {
   "cell_type": "code",
   "execution_count": null,
   "metadata": {},
   "outputs": [],
   "source": [
    "df = pd.DataFrame(raw_result)"
   ]
  },
  {
   "cell_type": "code",
   "execution_count": null,
   "metadata": {},
   "outputs": [],
   "source": [
    "df.head()"
   ]
  },
  {
   "cell_type": "code",
   "execution_count": null,
   "metadata": {},
   "outputs": [],
   "source": [
    "nets = df[df.substep==1].network.values\n",
    "pos = nx.kamada_kawai_layout(nets[-1])"
   ]
  },
  {
   "cell_type": "code",
   "execution_count": null,
   "metadata": {
    "scrolled": false
   },
   "outputs": [],
   "source": [
    "for i in range(len(nets)-1):\n",
    "    nx.draw(nets[i],pos=pos, alpha=.5, node_color='b')\n",
    "    nx.draw(nets[i+1],pos=pos,  alpha=.5, node_color='g')\n",
    "    plt.title(\"Update: $G_{\"+str(i)+\"}$ to $G_{\"+str(i+1)+\"}$\")\n",
    "    plt.show()"
   ]
  },
  {
   "cell_type": "code",
   "execution_count": null,
   "metadata": {},
   "outputs": [],
   "source": [
    "df['node_count'] = df.network.apply(lambda x: len(x.nodes))\n",
    "df['edge_count'] = df.network.apply(lambda x: len(x.edges))\n",
    "df['user_count'] = df.network.apply(lambda x: len(get_nodes_by_type(x, 'github/user')))"
   ]
  },
  {
   "cell_type": "code",
   "execution_count": null,
   "metadata": {},
   "outputs": [],
   "source": [
    "df.head()"
   ]
  },
  {
   "cell_type": "code",
   "execution_count": null,
   "metadata": {},
   "outputs": [],
   "source": [
    "df.plot(x='timestep', y=['node_count', 'user_count', 'edge_count'], logy=True)\n",
    "#df.plot(x='timestep', y='user_count')\n",
    "#df.plot(x='timestep', y='edge_count')\n",
    "plt.title('size in network over time')\n",
    "plt.xlabel('time')\n",
    "plt.ylabel('count')\n",
    "plt.legend([\"nodes\",\"users\",\"edges\"])\n"
   ]
  },
  {
   "cell_type": "code",
   "execution_count": null,
   "metadata": {},
   "outputs": [],
   "source": [
    "def pad(vec, length,fill=True):\n",
    "    \n",
    "    if fill:\n",
    "        padded = np.zeros(length,)\n",
    "    else:\n",
    "        padded = np.empty(length,)\n",
    "        padded[:] = np.nan\n",
    "        \n",
    "    for i in range(len(vec)):\n",
    "        padded[i]= vec[i]\n",
    "        \n",
    "    return padded\n",
    "\n",
    "def make2D(key, data, fill=False):\n",
    "    maxL = data[key].apply(len).max()\n",
    "    newkey = 'padded_'+key\n",
    "    data[newkey] = data[key].apply(lambda x: pad(x,maxL,fill))\n",
    "    reshaped = np.array([a for a in data[newkey].values])\n",
    "    \n",
    "    return reshaped"
   ]
  },
  {
   "cell_type": "code",
   "execution_count": null,
   "metadata": {},
   "outputs": [],
   "source": [
    "plt.semilogy(df.index,make2D('cred', df, False))\n",
    "plt.title('Cred for all contributions')\n",
    "plt.xlabel('time $t$')\n",
    "plt.ylabel('pagerank($G_t$)')"
   ]
  },
  {
   "cell_type": "code",
   "execution_count": null,
   "metadata": {},
   "outputs": [],
   "source": [
    "r2df = df[df.substep==2].copy() \n",
    "plt.semilogy(r2df.index,make2D('time_weighted_cred', r2df))\n",
    "plt.title('Smoothed Averge Cred for all contributions')\n",
    "plt.xlabel('time $t$')\n",
    "plt.ylabel('exponentiall smoothed pagerank($G_t$)\\n with $\\gamma=.9$')"
   ]
  },
  {
   "cell_type": "code",
   "execution_count": null,
   "metadata": {},
   "outputs": [],
   "source": [
    "plt.semilogy(r2df.index,make2D('cumulative_cred', r2df))\n",
    "plt.title('Cumulative Cred for all contributions')\n",
    "plt.xlabel('time $t$')\n",
    "plt.ylabel(' $\\sum_{T < t}$ pagerank($G_T$)')"
   ]
  },
  {
   "cell_type": "code",
   "execution_count": null,
   "metadata": {},
   "outputs": [],
   "source": [
    "#now lets look at just users cred of all 3 types\n",
    "user_nodes = get_nodes_by_type(nets[-1], 'github/user')\n",
    "user_names = [nets[-1].nodes[u]['address'][4] for u in user_nodes ]\n",
    "U = len(user_nodes)\n",
    "N = len(nets)\n",
    "user_cred = np.empty((U,N))\n",
    "user_cumulative_cred = np.empty((U,N))\n",
    "user_time_weighted_cred = np.empty((U,N))\n",
    "for i in range(N):\n",
    "    net = nets[i]\n",
    "    for u in range(U):\n",
    "        user = user_nodes[u]\n",
    "        if user in net.nodes:\n",
    "            user_cumulative_cred[u,i] = net.nodes[user]['cumulative']\n",
    "            user_time_weighted_cred[u,i]= net.nodes[user]['time_weighted']\n",
    "            user_cred[u,i] = net.nodes[user]['score']\n",
    "        else:\n",
    "            user_cumulative_cred[u,i] = np.nan\n",
    "            user_time_weighted_cred[u,i]= np.nan\n",
    "            user_cred[u,i] = np.nan\n",
    "            "
   ]
  },
  {
   "cell_type": "code",
   "execution_count": null,
   "metadata": {},
   "outputs": [],
   "source": [
    "user_cred.shape"
   ]
  },
  {
   "cell_type": "code",
   "execution_count": null,
   "metadata": {},
   "outputs": [],
   "source": [
    "plt.semilogy(range(N),user_cred.T)\n",
    "plt.legend(user_names, bbox_to_anchor=(1.5, 1))\n",
    "plt.title('Cred for all Users')\n",
    "plt.xlabel('time $t$')\n",
    "plt.ylabel('pagerank($G_t$)')"
   ]
  },
  {
   "cell_type": "code",
   "execution_count": null,
   "metadata": {},
   "outputs": [],
   "source": [
    "plt.semilogy(range(N),user_cumulative_cred.T)\n",
    "plt.legend(user_names, bbox_to_anchor=(1.5, 1))\n",
    "plt.title('Cumulative Cred for all Users')\n",
    "plt.xlabel('time $t$')\n",
    "plt.ylabel('$\\sum_{T < t}$ pagerank($G_T$)')"
   ]
  },
  {
   "cell_type": "code",
   "execution_count": null,
   "metadata": {},
   "outputs": [],
   "source": [
    "plt.semilogy(range(N),user_time_weighted_cred.T)\n",
    "plt.legend(user_names, bbox_to_anchor=(1.5, 1))\n",
    "plt.title('Smoothed Cred for Users')\n",
    "plt.xlabel('time $t$')\n",
    "plt.ylabel('smoothed weighted average of pagerank($G_t$)')"
   ]
  },
  {
   "cell_type": "code",
   "execution_count": null,
   "metadata": {},
   "outputs": [],
   "source": []
  },
  {
   "cell_type": "code",
   "execution_count": null,
   "metadata": {},
   "outputs": [],
   "source": []
  }
 ],
 "metadata": {
  "kernelspec": {
   "display_name": "Python 3",
   "language": "python",
   "name": "python3"
  },
  "language_info": {
   "codemirror_mode": {
    "name": "ipython",
    "version": 3
   },
   "file_extension": ".py",
   "mimetype": "text/x-python",
   "name": "python",
   "nbconvert_exporter": "python",
   "pygments_lexer": "ipython3",
   "version": "3.6.8"
  }
 },
 "nbformat": 4,
 "nbformat_minor": 2
}
